{
 "cells": [
  {
   "cell_type": "code",
   "execution_count": 1,
   "metadata": {},
   "outputs": [],
   "source": [
    "import pandas as pd\n",
    "import os\n",
    "import numpy as np\n",
    "import requests\n",
    "import datetime\n",
    "import xgboost as xgb\n",
    "from sklearn.model_selection import train_test_split\n",
    "from sklearn.metrics import mean_squared_error, r2_score\n",
    "import datetime\n",
    "import time\n",
    "import json\n",
    "from geopy.geocoders import Nominatim\n",
    "import matplotlib.pyplot as plt\n",
    "from matplotlib.patches import Patch\n",
    "from matplotlib.ticker import MultipleLocator\n",
    "import openmeteo_requests\n",
    "import requests_cache\n",
    "from retry_requests import retry\n",
    "import hsfs\n",
    "from pathlib import Path\n",
    "from dotenv import load_dotenv\n",
    "import hopsworks\n",
    "import sys\n",
    "\n",
    "root_dir = Path().resolve().parent\n",
    "sys.path.append(str(root_dir))\n",
    "\n",
    "from format_data import format_weather_data, format_price_data\n",
    "from get_electricity_prices import get_data\n",
    "from get_weather_data import get_historical_weather, get_weather_forecast\n",
    "\n"
   ]
  },
  {
   "cell_type": "code",
   "execution_count": 2,
   "metadata": {},
   "outputs": [],
   "source": [
    "import hsfs"
   ]
  },
  {
   "cell_type": "code",
   "execution_count": 3,
   "metadata": {},
   "outputs": [],
   "source": [
    "import hopsworks"
   ]
  },
  {
   "cell_type": "code",
   "execution_count": 2,
   "metadata": {},
   "outputs": [
    {
     "name": "stdout",
     "output_type": "stream",
     "text": [
      "2024-12-23 12:29:23,177 INFO: Initializing external client\n",
      "2024-12-23 12:29:23,178 INFO: Base URL: https://c.app.hopsworks.ai:443\n",
      "2024-12-23 12:29:24,858 INFO: Python Engine initialized.\n",
      "\n",
      "Logged in to project, explore it here https://c.app.hopsworks.ai:443/p/1164446\n",
      "Connected to project: oskaralf\n"
     ]
    }
   ],
   "source": [
    "load_dotenv()\n",
    "hopsworks_api = os.getenv(\"HOPSWORKS_API_KEY\")\n",
    "\n",
    "os.environ[\"HOPSWORKS_API_KEY\"] = hopsworks_api\n",
    "\n",
    "project = hopsworks.login()\n",
    "print(f\"Connected to project: {project.name}\")"
   ]
  },
  {
   "cell_type": "code",
   "execution_count": 6,
   "metadata": {},
   "outputs": [
    {
     "name": "stdout",
     "output_type": "stream",
     "text": [
      "Coordinates 65.55360412597656°N 22.24431800842285°E\n",
      "Elevation 15.0 m asl\n",
      "Timezone None None\n",
      "Timezone difference to GMT+0 0 s\n"
     ]
    }
   ],
   "source": [
    "start_date = \"2022-11-01\"\n",
    "end_date = datetime.date.today().strftime('%Y-%m-%d')\n",
    "hist_weather_df = get_historical_weather(\"Luleå\", start_date, end_date, 65.5841, 22.1547)\n",
    "formatted_hist_weather_df = format_weather_data(hist_weather_df)"
   ]
  },
  {
   "cell_type": "code",
   "execution_count": 7,
   "metadata": {},
   "outputs": [
    {
     "name": "stdout",
     "output_type": "stream",
     "text": [
      "date          datetime64[ns]\n",
      "time_start            object\n",
      "price                float64\n",
      "dtype: object\n",
      "            date                 time_start    price\n",
      "0     2022-11-01  2022-11-01T00:00:00+01:00  0.37995\n",
      "1     2022-11-01  2022-11-01T01:00:00+01:00  0.37995\n",
      "2     2022-11-01  2022-11-01T02:00:00+01:00  0.38430\n",
      "3     2022-11-01  2022-11-01T03:00:00+01:00  0.39301\n",
      "4     2022-11-01  2022-11-01T04:00:00+01:00  0.41173\n",
      "...          ...                        ...      ...\n",
      "18810 2024-12-23  2024-12-23T19:00:00+01:00  1.12735\n",
      "18811 2024-12-23  2024-12-23T20:00:00+01:00  1.04068\n",
      "18812 2024-12-23  2024-12-23T21:00:00+01:00  1.01973\n",
      "18813 2024-12-23  2024-12-23T22:00:00+01:00  0.73231\n",
      "18814 2024-12-23  2024-12-23T23:00:00+01:00  0.54411\n",
      "\n",
      "[18815 rows x 3 columns]\n"
     ]
    }
   ],
   "source": [
    "price_df = get_data(\"SE4\")\n",
    "print(price_df.dtypes)\n",
    "print(price_df)"
   ]
  },
  {
   "cell_type": "code",
   "execution_count": 8,
   "metadata": {},
   "outputs": [
    {
     "name": "stdout",
     "output_type": "stream",
     "text": [
      "            date           time_start    price\n",
      "0     2022-11-01  2022-11-01T00:00:00  0.37995\n",
      "1     2022-11-01  2022-11-01T01:00:00  0.37995\n",
      "2     2022-11-01  2022-11-01T02:00:00  0.38430\n",
      "3     2022-11-01  2022-11-01T03:00:00  0.39301\n",
      "4     2022-11-01  2022-11-01T04:00:00  0.41173\n",
      "...          ...                  ...      ...\n",
      "18810 2024-12-23  2024-12-23T19:00:00  1.12735\n",
      "18811 2024-12-23  2024-12-23T20:00:00  1.04068\n",
      "18812 2024-12-23  2024-12-23T21:00:00  1.01973\n",
      "18813 2024-12-23  2024-12-23T22:00:00  0.73231\n",
      "18814 2024-12-23  2024-12-23T23:00:00  0.54411\n",
      "\n",
      "[18815 rows x 3 columns]\n",
      "date          datetime64[ns]\n",
      "time_start            object\n",
      "price                float64\n",
      "dtype: object\n"
     ]
    }
   ],
   "source": [
    "price_df['time_start'] = price_df['time_start'].str.replace(r'\\+\\d{2}:\\d{2}$', '', regex=True)\n",
    "print(price_df)\n",
    "print(price_df.dtypes)"
   ]
  },
  {
   "cell_type": "code",
   "execution_count": 9,
   "metadata": {},
   "outputs": [
    {
     "name": "stdout",
     "output_type": "stream",
     "text": [
      "                time_start  temperature_2m  precipitation  snow_depth  \\\n",
      "0      2022-11-01T00:00:00       -0.039000            0.0        0.00   \n",
      "1      2022-11-01T01:00:00       -0.439000            0.0        0.00   \n",
      "2      2022-11-01T02:00:00       -0.339000            0.0        0.00   \n",
      "3      2022-11-01T03:00:00        0.161000            0.0        0.00   \n",
      "4      2022-11-01T04:00:00       -0.439000            0.0        0.00   \n",
      "...                    ...             ...            ...         ...   \n",
      "18667  2024-12-17T19:00:00      -10.289000            0.0        0.12   \n",
      "18668  2024-12-17T20:00:00       -9.889000            0.0        0.12   \n",
      "18669  2024-12-17T21:00:00      -10.188999            0.0        0.12   \n",
      "18670  2024-12-17T22:00:00      -10.789000            0.0        0.12   \n",
      "18671  2024-12-17T23:00:00      -11.889000            0.0        0.12   \n",
      "\n",
      "       pressure_msl  cloud_cover  wind_speed_10m  wind_speed_100m  \\\n",
      "0       1009.299988         38.0       15.530151        27.162708   \n",
      "1       1009.799988         84.0       14.773164        26.260265   \n",
      "2       1010.200012         99.0       12.768586        23.400000   \n",
      "3       1010.700012         35.0       11.592894        21.422270   \n",
      "4       1011.299988         27.0       10.464797        20.268990   \n",
      "...             ...          ...             ...              ...   \n",
      "18667   1004.200012        100.0        6.492487        11.672275   \n",
      "18668   1005.000000        100.0        8.536252        13.577776   \n",
      "18669   1005.799988        100.0        9.504272        14.387619   \n",
      "18670   1006.299988        100.0       10.223619        15.986593   \n",
      "18671   1007.299988        100.0       10.239453        18.279530   \n",
      "\n",
      "       wind_direction_10m  wind_direction_100m   city  \n",
      "0              315.939087           325.256744  Luleå  \n",
      "1              316.974915           326.745636  Luleå  \n",
      "2              319.574005           329.489838  Luleå  \n",
      "3              323.841705           335.157623  Luleå  \n",
      "4              310.814972           326.592163  Luleå  \n",
      "...                   ...                  ...    ...  \n",
      "18667           46.123219            63.435013  Luleå  \n",
      "18668           42.436188            51.458797  Luleå  \n",
      "18669           37.304039            43.479294  Luleå  \n",
      "18670           26.113852            35.837746  Luleå  \n",
      "18671           10.124612            25.050951  Luleå  \n",
      "\n",
      "[18168 rows x 11 columns]\n",
      "time_start              object\n",
      "temperature_2m         float32\n",
      "precipitation          float32\n",
      "snow_depth             float32\n",
      "pressure_msl           float32\n",
      "cloud_cover            float32\n",
      "wind_speed_10m         float32\n",
      "wind_speed_100m        float32\n",
      "wind_direction_10m     float32\n",
      "wind_direction_100m    float32\n",
      "city                    object\n",
      "dtype: object\n"
     ]
    }
   ],
   "source": [
    "formatted_hist_weather_df['time_start'] = formatted_hist_weather_df['time_start'].str.replace(r'\\+\\d{2}:\\d{2}$', '', regex=True)\n",
    "print(formatted_hist_weather_df)\n",
    "print(formatted_hist_weather_df.dtypes)\n"
   ]
  },
  {
   "cell_type": "code",
   "execution_count": 10,
   "metadata": {},
   "outputs": [
    {
     "name": "stdout",
     "output_type": "stream",
     "text": [
      "            date           time_start    price\n",
      "0     2022-11-01  2022-11-01T00:00:00  0.37995\n",
      "1     2022-11-01  2022-11-01T01:00:00  0.37995\n",
      "2     2022-11-01  2022-11-01T02:00:00  0.38430\n",
      "3     2022-11-01  2022-11-01T03:00:00  0.39301\n",
      "4     2022-11-01  2022-11-01T04:00:00  0.41173\n",
      "...          ...                  ...      ...\n",
      "18810 2024-12-23  2024-12-23T19:00:00  1.12735\n",
      "18811 2024-12-23  2024-12-23T20:00:00  1.04068\n",
      "18812 2024-12-23  2024-12-23T21:00:00  1.01973\n",
      "18813 2024-12-23  2024-12-23T22:00:00  0.73231\n",
      "18814 2024-12-23  2024-12-23T23:00:00  0.54411\n",
      "\n",
      "[18815 rows x 3 columns]\n",
      "date          datetime64[ns]\n",
      "time_start            object\n",
      "price                float64\n",
      "dtype: object\n"
     ]
    }
   ],
   "source": [
    "print(price_df)\n",
    "print(price_df.dtypes)"
   ]
  },
  {
   "cell_type": "code",
   "execution_count": 12,
   "metadata": {},
   "outputs": [
    {
     "name": "stdout",
     "output_type": "stream",
     "text": [
      "        date           time_start    price\n",
      "0 2022-11-01  2022-11-01T00:00:00  0.37995\n",
      "1 2022-11-01  2022-11-01T01:00:00  0.37995\n",
      "2 2022-11-01  2022-11-01T02:00:00  0.38430\n",
      "3 2022-11-01  2022-11-01T03:00:00  0.39301\n",
      "4 2022-11-01  2022-11-01T04:00:00  0.41173\n",
      "date          datetime64[ns]\n",
      "time_start            object\n",
      "price                float64\n",
      "dtype: object\n"
     ]
    }
   ],
   "source": [
    "\n",
    "print(price_df.head())\n",
    "print(price_df.dtypes)"
   ]
  },
  {
   "cell_type": "code",
   "execution_count": 13,
   "metadata": {},
   "outputs": [
    {
     "data": {
      "text/plain": [
       "{\"expectation_type\": \"expect_column_min_to_be_between\", \"kwargs\": {\"column\": \"wind_speed_10m\", \"min_value\": -0.1, \"max_value\": 1000, \"strict_min\": true}, \"meta\": {}}"
      ]
     },
     "execution_count": 13,
     "metadata": {},
     "output_type": "execute_result"
    }
   ],
   "source": [
    "import great_expectations as ge\n",
    "\n",
    "weather_expectation_suite = ge.core.ExpectationSuite(\n",
    "    expectation_suite_name=\"weather_expectation_suite\"\n",
    ")\n",
    "\n",
    "weather_expectation_suite.add_expectation(\n",
    "    ge.core.ExpectationConfiguration(\n",
    "        expectation_type=\"expect_column_min_to_be_between\",\n",
    "        kwargs={\n",
    "            \"column\":\"temperature_2m\",\n",
    "            \"min_value\":-100.0,\n",
    "            \"max_value\":500.0,\n",
    "            \"strict_min\":True\n",
    "        }\n",
    "    )\n",
    ")\n",
    "\n",
    "weather_expectation_suite.add_expectation(\n",
    "    ge.core.ExpectationConfiguration(\n",
    "        expectation_type=\"expect_column_min_to_be_between\",\n",
    "        kwargs={\n",
    "            \"column\":\"precipitation\",\n",
    "            \"min_value\":-0.0,\n",
    "            \"max_value\":500.0,\n",
    "            \"strict_min\":True\n",
    "        }\n",
    "    )\n",
    ")\n",
    "\n",
    "weather_expectation_suite.add_expectation(\n",
    "    ge.core.ExpectationConfiguration(\n",
    "        expectation_type=\"expect_column_min_to_be_between\",\n",
    "        kwargs={\n",
    "            \"column\":\"pressure_msl\",\n",
    "            \"min_value\":800,\n",
    "            \"max_value\":2000,\n",
    "            \"strict_min\":True\n",
    "        }\n",
    "    )\n",
    ")\n",
    "\n",
    "\n",
    "\n",
    "weather_expectation_suite.add_expectation(\n",
    "    ge.core.ExpectationConfiguration(\n",
    "        expectation_type=\"expect_column_min_to_be_between\",\n",
    "        kwargs={\n",
    "            \"column\":\"cloud_cover\",\n",
    "            \"min_value\":-0.1,\n",
    "            \"max_value\":100,\n",
    "            \"strict_min\":True\n",
    "        }\n",
    "    )\n",
    ")\n",
    "\n",
    "weather_expectation_suite.add_expectation(\n",
    "    ge.core.ExpectationConfiguration(\n",
    "        expectation_type=\"expect_column_min_to_be_between\",\n",
    "        kwargs={\n",
    "            \"column\":\"wind_speed_10m\",\n",
    "            \"min_value\":-0.1,\n",
    "            \"max_value\":1000,\n",
    "            \"strict_min\":True\n",
    "        }\n",
    "    )\n",
    ")\n",
    "\n"
   ]
  },
  {
   "cell_type": "code",
   "execution_count": 14,
   "metadata": {},
   "outputs": [
    {
     "data": {
      "text/plain": [
       "{\"expectation_type\": \"expect_column_min_to_be_between\", \"kwargs\": {\"column\": \"price\", \"min_value\": -0.1, \"max_value\": 5000, \"strict_min\": true}, \"meta\": {}}"
      ]
     },
     "execution_count": 14,
     "metadata": {},
     "output_type": "execute_result"
    }
   ],
   "source": [
    "import great_expectations as ge\n",
    "\n",
    "prices_expectation_suite = ge.core.ExpectationSuite(\n",
    "    expectation_suite_name=\"price_expectation_suite\"\n",
    ")\n",
    "\n",
    "prices_expectation_suite.add_expectation(\n",
    "    ge.core.ExpectationConfiguration(\n",
    "        expectation_type=\"expect_column_min_to_be_between\",\n",
    "        kwargs={\n",
    "            \"column\":\"price\",\n",
    "            \"min_value\":-0.1,\n",
    "            \"max_value\":5000,\n",
    "            \"strict_min\":True\n",
    "        }\n",
    "    )\n",
    ")"
   ]
  },
  {
   "cell_type": "code",
   "execution_count": 15,
   "metadata": {},
   "outputs": [
    {
     "name": "stdout",
     "output_type": "stream",
     "text": [
      "Connected to feature store: oskaralf_featurestore\n"
     ]
    }
   ],
   "source": [
    "try:\n",
    "    fs = project.get_feature_store()\n",
    "    print(f\"Connected to feature store: {fs.name}\")\n",
    "except Exception as e:\n",
    "    print(f\"Failed to get feature store: {e}\")"
   ]
  },
  {
   "cell_type": "code",
   "execution_count": 19,
   "metadata": {},
   "outputs": [],
   "source": [
    "weather_fg = fs.get_or_create_feature_group(\n",
    "    name='weather_data',\n",
    "    description='Weather data for SE4',\n",
    "    version=1,\n",
    "    primary_key=['time_start'],\n",
    "    expectation_suite=weather_expectation_suite\n",
    ")"
   ]
  },
  {
   "cell_type": "code",
   "execution_count": 20,
   "metadata": {},
   "outputs": [],
   "source": [
    "price_fg = fs.get_or_create_feature_group(\n",
    "    name='electricity_price_data',\n",
    "    description='Electricity price data for SE4',\n",
    "    version=1,\n",
    "    primary_key=['time_start'],\n",
    "    expectation_suite=prices_expectation_suite\n",
    ")"
   ]
  },
  {
   "cell_type": "code",
   "execution_count": 21,
   "metadata": {},
   "outputs": [
    {
     "name": "stdout",
     "output_type": "stream",
     "text": [
      "Feature Group created successfully, explore it at \n",
      "https://c.app.hopsworks.ai:443/p/1164446/fs/1155149/fg/1393145\n",
      "2024-12-23 12:40:28,705 INFO: \t5 expectation(s) included in expectation_suite.\n",
      "Validation failed.\n",
      "Validation Report saved successfully, explore a summary at https://c.app.hopsworks.ai:443/p/1164446/fs/1155149/fg/1393145\n"
     ]
    },
    {
     "name": "stderr",
     "output_type": "stream",
     "text": [
      "Uploading Dataframe: 100.00% |██████████| Rows 18168/18168 | Elapsed Time: 00:06 | Remaining Time: 00:00\n"
     ]
    },
    {
     "name": "stdout",
     "output_type": "stream",
     "text": [
      "Launching job: weather_data_1_offline_fg_materialization\n",
      "Job started successfully, you can follow the progress at \n",
      "https://c.app.hopsworks.ai:443/p/1164446/jobs/named/weather_data_1_offline_fg_materialization/executions\n"
     ]
    },
    {
     "data": {
      "text/plain": [
       "(Job('weather_data_1_offline_fg_materialization', 'SPARK'),\n",
       " {\n",
       "   \"success\": false,\n",
       "   \"results\": [\n",
       "     {\n",
       "       \"success\": false,\n",
       "       \"expectation_config\": {\n",
       "         \"expectation_type\": \"expect_column_min_to_be_between\",\n",
       "         \"kwargs\": {\n",
       "           \"column\": \"precipitation\",\n",
       "           \"min_value\": -0.0,\n",
       "           \"max_value\": 500.0,\n",
       "           \"strict_min\": true\n",
       "         },\n",
       "         \"meta\": {\n",
       "           \"expectationId\": 695303\n",
       "         }\n",
       "       },\n",
       "       \"result\": {\n",
       "         \"observed_value\": 0.0,\n",
       "         \"element_count\": 18168,\n",
       "         \"missing_count\": null,\n",
       "         \"missing_percent\": null\n",
       "       },\n",
       "       \"meta\": {\n",
       "         \"ingestionResult\": \"INGESTED\",\n",
       "         \"validationTime\": \"2024-12-23T11:40:28.000705Z\"\n",
       "       },\n",
       "       \"exception_info\": {\n",
       "         \"raised_exception\": false,\n",
       "         \"exception_message\": null,\n",
       "         \"exception_traceback\": null\n",
       "       }\n",
       "     },\n",
       "     {\n",
       "       \"success\": true,\n",
       "       \"expectation_config\": {\n",
       "         \"expectation_type\": \"expect_column_min_to_be_between\",\n",
       "         \"kwargs\": {\n",
       "           \"column\": \"temperature_2m\",\n",
       "           \"min_value\": -100.0,\n",
       "           \"max_value\": 500.0,\n",
       "           \"strict_min\": true\n",
       "         },\n",
       "         \"meta\": {\n",
       "           \"expectationId\": 695302\n",
       "         }\n",
       "       },\n",
       "       \"result\": {\n",
       "         \"observed_value\": -31.788997650146484,\n",
       "         \"element_count\": 18168,\n",
       "         \"missing_count\": null,\n",
       "         \"missing_percent\": null\n",
       "       },\n",
       "       \"meta\": {\n",
       "         \"ingestionResult\": \"INGESTED\",\n",
       "         \"validationTime\": \"2024-12-23T11:40:28.000705Z\"\n",
       "       },\n",
       "       \"exception_info\": {\n",
       "         \"raised_exception\": false,\n",
       "         \"exception_message\": null,\n",
       "         \"exception_traceback\": null\n",
       "       }\n",
       "     },\n",
       "     {\n",
       "       \"success\": true,\n",
       "       \"expectation_config\": {\n",
       "         \"expectation_type\": \"expect_column_min_to_be_between\",\n",
       "         \"kwargs\": {\n",
       "           \"column\": \"pressure_msl\",\n",
       "           \"min_value\": 800,\n",
       "           \"max_value\": 2000,\n",
       "           \"strict_min\": true\n",
       "         },\n",
       "         \"meta\": {\n",
       "           \"expectationId\": 695304\n",
       "         }\n",
       "       },\n",
       "       \"result\": {\n",
       "         \"observed_value\": 957.4000244140625,\n",
       "         \"element_count\": 18168,\n",
       "         \"missing_count\": null,\n",
       "         \"missing_percent\": null\n",
       "       },\n",
       "       \"meta\": {\n",
       "         \"ingestionResult\": \"INGESTED\",\n",
       "         \"validationTime\": \"2024-12-23T11:40:28.000705Z\"\n",
       "       },\n",
       "       \"exception_info\": {\n",
       "         \"raised_exception\": false,\n",
       "         \"exception_message\": null,\n",
       "         \"exception_traceback\": null\n",
       "       }\n",
       "     },\n",
       "     {\n",
       "       \"success\": true,\n",
       "       \"expectation_config\": {\n",
       "         \"expectation_type\": \"expect_column_min_to_be_between\",\n",
       "         \"kwargs\": {\n",
       "           \"column\": \"wind_speed_10m\",\n",
       "           \"min_value\": -0.1,\n",
       "           \"max_value\": 1000,\n",
       "           \"strict_min\": true\n",
       "         },\n",
       "         \"meta\": {\n",
       "           \"expectationId\": 695300\n",
       "         }\n",
       "       },\n",
       "       \"result\": {\n",
       "         \"observed_value\": 0.35999998450279236,\n",
       "         \"element_count\": 18168,\n",
       "         \"missing_count\": null,\n",
       "         \"missing_percent\": null\n",
       "       },\n",
       "       \"meta\": {\n",
       "         \"ingestionResult\": \"INGESTED\",\n",
       "         \"validationTime\": \"2024-12-23T11:40:28.000705Z\"\n",
       "       },\n",
       "       \"exception_info\": {\n",
       "         \"raised_exception\": false,\n",
       "         \"exception_message\": null,\n",
       "         \"exception_traceback\": null\n",
       "       }\n",
       "     },\n",
       "     {\n",
       "       \"success\": true,\n",
       "       \"expectation_config\": {\n",
       "         \"expectation_type\": \"expect_column_min_to_be_between\",\n",
       "         \"kwargs\": {\n",
       "           \"column\": \"cloud_cover\",\n",
       "           \"min_value\": -0.1,\n",
       "           \"max_value\": 100,\n",
       "           \"strict_min\": true\n",
       "         },\n",
       "         \"meta\": {\n",
       "           \"expectationId\": 695301\n",
       "         }\n",
       "       },\n",
       "       \"result\": {\n",
       "         \"observed_value\": 0.0,\n",
       "         \"element_count\": 18168,\n",
       "         \"missing_count\": null,\n",
       "         \"missing_percent\": null\n",
       "       },\n",
       "       \"meta\": {\n",
       "         \"ingestionResult\": \"INGESTED\",\n",
       "         \"validationTime\": \"2024-12-23T11:40:28.000705Z\"\n",
       "       },\n",
       "       \"exception_info\": {\n",
       "         \"raised_exception\": false,\n",
       "         \"exception_message\": null,\n",
       "         \"exception_traceback\": null\n",
       "       }\n",
       "     }\n",
       "   ],\n",
       "   \"evaluation_parameters\": {},\n",
       "   \"statistics\": {\n",
       "     \"evaluated_expectations\": 5,\n",
       "     \"successful_expectations\": 4,\n",
       "     \"unsuccessful_expectations\": 1,\n",
       "     \"success_percent\": 80.0\n",
       "   },\n",
       "   \"meta\": {\n",
       "     \"great_expectations_version\": \"0.18.12\",\n",
       "     \"expectation_suite_name\": \"weather_expectation_suite\",\n",
       "     \"run_id\": {\n",
       "       \"run_name\": null,\n",
       "       \"run_time\": \"2024-12-23T12:40:28.705280+01:00\"\n",
       "     },\n",
       "     \"batch_kwargs\": {\n",
       "       \"ge_batch_id\": \"b5545cb0-c122-11ef-87a5-acde48001122\"\n",
       "     },\n",
       "     \"batch_markers\": {},\n",
       "     \"batch_parameters\": {},\n",
       "     \"validation_time\": \"20241223T114028.705072Z\",\n",
       "     \"expectation_suite_meta\": {\n",
       "       \"great_expectations_version\": \"0.18.12\"\n",
       "     }\n",
       "   }\n",
       " })"
      ]
     },
     "execution_count": 21,
     "metadata": {},
     "output_type": "execute_result"
    }
   ],
   "source": [
    "weather_fg.insert(formatted_hist_weather_df)"
   ]
  },
  {
   "cell_type": "code",
   "execution_count": 22,
   "metadata": {},
   "outputs": [
    {
     "name": "stdout",
     "output_type": "stream",
     "text": [
      "Feature Group created successfully, explore it at \n",
      "https://c.app.hopsworks.ai:443/p/1164446/fs/1155149/fg/1393146\n",
      "2024-12-23 12:41:23,583 INFO: \t1 expectation(s) included in expectation_suite.\n",
      "Validation failed.\n",
      "Validation Report saved successfully, explore a summary at https://c.app.hopsworks.ai:443/p/1164446/fs/1155149/fg/1393146\n"
     ]
    },
    {
     "name": "stderr",
     "output_type": "stream",
     "text": [
      "Uploading Dataframe: 100.00% |██████████| Rows 18815/18815 | Elapsed Time: 00:06 | Remaining Time: 00:00\n"
     ]
    },
    {
     "name": "stdout",
     "output_type": "stream",
     "text": [
      "Launching job: electricity_price_data_1_offline_fg_materialization\n",
      "Job started successfully, you can follow the progress at \n",
      "https://c.app.hopsworks.ai:443/p/1164446/jobs/named/electricity_price_data_1_offline_fg_materialization/executions\n"
     ]
    },
    {
     "data": {
      "text/plain": [
       "(Job('electricity_price_data_1_offline_fg_materialization', 'SPARK'),\n",
       " {\n",
       "   \"success\": false,\n",
       "   \"results\": [\n",
       "     {\n",
       "       \"success\": false,\n",
       "       \"expectation_config\": {\n",
       "         \"expectation_type\": \"expect_column_min_to_be_between\",\n",
       "         \"kwargs\": {\n",
       "           \"column\": \"price\",\n",
       "           \"min_value\": -0.1,\n",
       "           \"max_value\": 5000,\n",
       "           \"strict_min\": true\n",
       "         },\n",
       "         \"meta\": {\n",
       "           \"expectationId\": 695305\n",
       "         }\n",
       "       },\n",
       "       \"result\": {\n",
       "         \"observed_value\": -0.69112,\n",
       "         \"element_count\": 18815,\n",
       "         \"missing_count\": null,\n",
       "         \"missing_percent\": null\n",
       "       },\n",
       "       \"meta\": {\n",
       "         \"ingestionResult\": \"INGESTED\",\n",
       "         \"validationTime\": \"2024-12-23T11:41:23.000582Z\"\n",
       "       },\n",
       "       \"exception_info\": {\n",
       "         \"raised_exception\": false,\n",
       "         \"exception_message\": null,\n",
       "         \"exception_traceback\": null\n",
       "       }\n",
       "     }\n",
       "   ],\n",
       "   \"evaluation_parameters\": {},\n",
       "   \"statistics\": {\n",
       "     \"evaluated_expectations\": 1,\n",
       "     \"successful_expectations\": 0,\n",
       "     \"unsuccessful_expectations\": 1,\n",
       "     \"success_percent\": 0.0\n",
       "   },\n",
       "   \"meta\": {\n",
       "     \"great_expectations_version\": \"0.18.12\",\n",
       "     \"expectation_suite_name\": \"price_expectation_suite\",\n",
       "     \"run_id\": {\n",
       "       \"run_name\": null,\n",
       "       \"run_time\": \"2024-12-23T12:41:23.582925+01:00\"\n",
       "     },\n",
       "     \"batch_kwargs\": {\n",
       "       \"ge_batch_id\": \"d60a1da0-c122-11ef-87a5-acde48001122\"\n",
       "     },\n",
       "     \"batch_markers\": {},\n",
       "     \"batch_parameters\": {},\n",
       "     \"validation_time\": \"20241223T114123.582757Z\",\n",
       "     \"expectation_suite_meta\": {\n",
       "       \"great_expectations_version\": \"0.18.12\"\n",
       "     }\n",
       "   }\n",
       " })"
      ]
     },
     "execution_count": 22,
     "metadata": {},
     "output_type": "execute_result"
    }
   ],
   "source": [
    "price_fg.insert(price_df)"
   ]
  }
 ],
 "metadata": {
  "kernelspec": {
   "display_name": "SML",
   "language": "python",
   "name": "python3"
  },
  "language_info": {
   "codemirror_mode": {
    "name": "ipython",
    "version": 3
   },
   "file_extension": ".py",
   "mimetype": "text/x-python",
   "name": "python",
   "nbconvert_exporter": "python",
   "pygments_lexer": "ipython3",
   "version": "3.11.10"
  }
 },
 "nbformat": 4,
 "nbformat_minor": 2
}
