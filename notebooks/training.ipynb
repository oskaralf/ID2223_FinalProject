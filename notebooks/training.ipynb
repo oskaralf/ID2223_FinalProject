{
 "cells": [
  {
   "cell_type": "code",
   "execution_count": 1,
   "metadata": {},
   "outputs": [],
   "source": [
    "import pandas as pd\n",
    "import os\n",
    "import numpy as np\n",
    "import requests\n",
    "import datetime\n",
    "import xgboost as xgb\n",
    "from sklearn.model_selection import train_test_split\n",
    "from sklearn.metrics import mean_squared_error, r2_score\n",
    "import datetime\n",
    "import time\n",
    "import json\n",
    "from geopy.geocoders import Nominatim\n",
    "import matplotlib.pyplot as plt\n",
    "from matplotlib.patches import Patch\n",
    "from matplotlib.ticker import MultipleLocator\n",
    "import openmeteo_requests\n",
    "import requests_cache\n",
    "from retry_requests import retry\n",
    "import hsfs\n",
    "from pathlib import Path\n",
    "from dotenv import load_dotenv\n",
    "import hopsworks\n",
    "import sys\n",
    "\n",
    "root_dir = Path().resolve().parent\n",
    "sys.path.append(str(root_dir))\n",
    "\n",
    "from format_data import format_weather_data, format_price_data, merge_data\n",
    "from get_electricity_prices import get_data\n",
    "from get_weather_data import get_historical_weather, get_weather_forecast\n",
    "\n",
    "import xgboost as xgb\n",
    "from sklearn.model_selection import train_test_split\n",
    "from sklearn.metrics import mean_squared_error, r2_score\n",
    "\n",
    "from format_data import format_weather_data, format_price_data, process_weather_data\n",
    "from get_electricity_prices import get_data\n",
    "from get_weather_data import get_historical_weather, get_weather_forecast\n",
    "from entsoe_data import fetch_historical_data, ensure_valid_series"
   ]
  },
  {
   "cell_type": "code",
   "execution_count": 3,
   "metadata": {},
   "outputs": [
    {
     "name": "stdout",
     "output_type": "stream",
     "text": [
      "2025-01-06 22:05:04,059 INFO: Closing external client and cleaning up certificates.\n",
      "Connection closed.\n",
      "2025-01-06 22:05:04,071 INFO: Initializing external client\n",
      "2025-01-06 22:05:04,072 INFO: Base URL: https://c.app.hopsworks.ai:443\n",
      "2025-01-06 22:05:05,382 INFO: Python Engine initialized.\n",
      "\n",
      "Logged in to project, explore it here https://c.app.hopsworks.ai:443/p/1164446\n",
      "Connected to project: oskaralf\n"
     ]
    }
   ],
   "source": [
    "load_dotenv()\n",
    "hopsworks_api = os.getenv(\"HOPSWORKS_API_KEY\")\n",
    "\n",
    "os.environ[\"HOPSWORKS_API_KEY\"] = hopsworks_api\n",
    "\n",
    "project = hopsworks.login()\n",
    "\n",
    "print(f\"Connected to project: {project.name}\")"
   ]
  },
  {
   "cell_type": "code",
   "execution_count": 4,
   "metadata": {},
   "outputs": [],
   "source": [
    "def get_feature_group_as_dataframe(project_name, feature_group_name, version=1):\n",
    "    fs = project.get_feature_store()\n",
    "    feature_group = fs.get_feature_group(name=feature_group_name, version=version)\n",
    "    df = feature_group.read()\n",
    "    return df"
   ]
  },
  {
   "cell_type": "code",
   "execution_count": 5,
   "metadata": {},
   "outputs": [],
   "source": [
    "fs = project.get_feature_store()"
   ]
  },
  {
   "cell_type": "code",
   "execution_count": 6,
   "metadata": {},
   "outputs": [
    {
     "name": "stdout",
     "output_type": "stream",
     "text": [
      "Finished: Reading data from Hopsworks, using Hopsworks Feature Query Service (1.23s) \n",
      "Finished: Reading data from Hopsworks, using Hopsworks Feature Query Service (1.00s) \n"
     ]
    }
   ],
   "source": [
    "#price_df = get_feature_group_as_dataframe(project.name, \"electricity_price_data\")\n",
    "weather_df = get_feature_group_as_dataframe(project.name, \"weather_data_3\")\n",
    "entsoe_df = get_feature_group_as_dataframe(project.name, \"entsoe_data_3\")"
   ]
  },
  {
   "cell_type": "code",
   "execution_count": 7,
   "metadata": {},
   "outputs": [],
   "source": [
    "weather_fg = fs.get_feature_group(\n",
    "    name='weather_data_3',\n",
    "    version=1,\n",
    ")\n",
    "\n",
    "entsoe_fg = fs.get_feature_group(\n",
    "    name='entsoe_data_3',\n",
    "    version=1,\n",
    ")"
   ]
  },
  {
   "cell_type": "code",
   "execution_count": 8,
   "metadata": {},
   "outputs": [
    {
     "name": "stdout",
     "output_type": "stream",
     "text": [
      "Finished: Reading data from Hopsworks, using Hopsworks Feature Query Service (2.11s) \n"
     ]
    },
    {
     "data": {
      "text/html": [
       "<div>\n",
       "<style scoped>\n",
       "    .dataframe tbody tr th:only-of-type {\n",
       "        vertical-align: middle;\n",
       "    }\n",
       "\n",
       "    .dataframe tbody tr th {\n",
       "        vertical-align: top;\n",
       "    }\n",
       "\n",
       "    .dataframe thead th {\n",
       "        text-align: right;\n",
       "    }\n",
       "</style>\n",
       "<table border=\"1\" class=\"dataframe\">\n",
       "  <thead>\n",
       "    <tr style=\"text-align: right;\">\n",
       "      <th></th>\n",
       "      <th>prices</th>\n",
       "      <th>imported_energy</th>\n",
       "      <th>total_load</th>\n",
       "      <th>total_generation_se</th>\n",
       "      <th>prices_lag</th>\n",
       "      <th>imported_energy_lag</th>\n",
       "      <th>total_load_lag</th>\n",
       "      <th>total_generation_se_lag</th>\n",
       "      <th>future_price</th>\n",
       "      <th>date</th>\n",
       "      <th>temperature_2m</th>\n",
       "      <th>wind_speed_100m</th>\n",
       "      <th>temperature_2m_lag</th>\n",
       "      <th>wind_speed_100m_lag</th>\n",
       "    </tr>\n",
       "  </thead>\n",
       "  <tbody>\n",
       "    <tr>\n",
       "      <th>0</th>\n",
       "      <td>37.00</td>\n",
       "      <td>-2125.0</td>\n",
       "      <td>20363.0</td>\n",
       "      <td>3313.0</td>\n",
       "      <td>55.26</td>\n",
       "      <td>-2133.0</td>\n",
       "      <td>20351.0</td>\n",
       "      <td>2917.0</td>\n",
       "      <td>38.76</td>\n",
       "      <td>2022-11-01 03:00:00+00:00</td>\n",
       "      <td>8.565000</td>\n",
       "      <td>17.283749</td>\n",
       "      <td>8.615000</td>\n",
       "      <td>16.454008</td>\n",
       "    </tr>\n",
       "    <tr>\n",
       "      <th>1</th>\n",
       "      <td>77.99</td>\n",
       "      <td>-1354.0</td>\n",
       "      <td>25407.0</td>\n",
       "      <td>3946.0</td>\n",
       "      <td>59.95</td>\n",
       "      <td>-1533.0</td>\n",
       "      <td>23883.0</td>\n",
       "      <td>3924.0</td>\n",
       "      <td>84.40</td>\n",
       "      <td>2022-11-01 07:00:00+00:00</td>\n",
       "      <td>8.264999</td>\n",
       "      <td>16.516901</td>\n",
       "      <td>8.214999</td>\n",
       "      <td>14.869351</td>\n",
       "    </tr>\n",
       "    <tr>\n",
       "      <th>2</th>\n",
       "      <td>91.30</td>\n",
       "      <td>-1995.0</td>\n",
       "      <td>26023.0</td>\n",
       "      <td>3295.0</td>\n",
       "      <td>72.17</td>\n",
       "      <td>-1895.0</td>\n",
       "      <td>25661.0</td>\n",
       "      <td>3853.0</td>\n",
       "      <td>97.84</td>\n",
       "      <td>2022-11-02 15:00:00+00:00</td>\n",
       "      <td>9.365000</td>\n",
       "      <td>22.682856</td>\n",
       "      <td>10.615000</td>\n",
       "      <td>21.841648</td>\n",
       "    </tr>\n",
       "    <tr>\n",
       "      <th>3</th>\n",
       "      <td>40.21</td>\n",
       "      <td>-1993.0</td>\n",
       "      <td>20767.0</td>\n",
       "      <td>3413.0</td>\n",
       "      <td>38.95</td>\n",
       "      <td>-2084.0</td>\n",
       "      <td>20719.0</td>\n",
       "      <td>3206.0</td>\n",
       "      <td>42.47</td>\n",
       "      <td>2022-11-03 03:00:00+00:00</td>\n",
       "      <td>6.115000</td>\n",
       "      <td>21.933426</td>\n",
       "      <td>6.065000</td>\n",
       "      <td>19.966211</td>\n",
       "    </tr>\n",
       "    <tr>\n",
       "      <th>4</th>\n",
       "      <td>76.00</td>\n",
       "      <td>-2009.0</td>\n",
       "      <td>24412.0</td>\n",
       "      <td>3956.0</td>\n",
       "      <td>50.00</td>\n",
       "      <td>-2199.0</td>\n",
       "      <td>22447.0</td>\n",
       "      <td>3951.0</td>\n",
       "      <td>87.20</td>\n",
       "      <td>2022-11-03 06:00:00+00:00</td>\n",
       "      <td>7.465000</td>\n",
       "      <td>15.021105</td>\n",
       "      <td>7.215000</td>\n",
       "      <td>17.782686</td>\n",
       "    </tr>\n",
       "    <tr>\n",
       "      <th>5</th>\n",
       "      <td>100.02</td>\n",
       "      <td>-2688.0</td>\n",
       "      <td>25923.0</td>\n",
       "      <td>2546.0</td>\n",
       "      <td>68.35</td>\n",
       "      <td>-2452.0</td>\n",
       "      <td>24461.0</td>\n",
       "      <td>2348.0</td>\n",
       "      <td>103.30</td>\n",
       "      <td>2022-11-04 07:00:00+00:00</td>\n",
       "      <td>8.115000</td>\n",
       "      <td>29.142216</td>\n",
       "      <td>7.715000</td>\n",
       "      <td>28.017622</td>\n",
       "    </tr>\n",
       "    <tr>\n",
       "      <th>6</th>\n",
       "      <td>240.55</td>\n",
       "      <td>-2254.0</td>\n",
       "      <td>26481.0</td>\n",
       "      <td>4567.0</td>\n",
       "      <td>122.21</td>\n",
       "      <td>-2013.0</td>\n",
       "      <td>26961.0</td>\n",
       "      <td>4137.0</td>\n",
       "      <td>213.76</td>\n",
       "      <td>2022-11-04 18:00:00+00:00</td>\n",
       "      <td>8.065000</td>\n",
       "      <td>32.839027</td>\n",
       "      <td>8.014999</td>\n",
       "      <td>32.583481</td>\n",
       "    </tr>\n",
       "    <tr>\n",
       "      <th>7</th>\n",
       "      <td>129.04</td>\n",
       "      <td>-2620.0</td>\n",
       "      <td>21896.0</td>\n",
       "      <td>2320.0</td>\n",
       "      <td>53.02</td>\n",
       "      <td>-2707.0</td>\n",
       "      <td>21278.0</td>\n",
       "      <td>2272.0</td>\n",
       "      <td>139.39</td>\n",
       "      <td>2022-11-05 07:00:00+00:00</td>\n",
       "      <td>8.415000</td>\n",
       "      <td>29.964457</td>\n",
       "      <td>8.415000</td>\n",
       "      <td>29.964457</td>\n",
       "    </tr>\n",
       "    <tr>\n",
       "      <th>8</th>\n",
       "      <td>114.45</td>\n",
       "      <td>-2005.0</td>\n",
       "      <td>24069.0</td>\n",
       "      <td>2731.0</td>\n",
       "      <td>133.83</td>\n",
       "      <td>-2155.0</td>\n",
       "      <td>23740.0</td>\n",
       "      <td>2701.0</td>\n",
       "      <td>96.36</td>\n",
       "      <td>2022-11-05 11:00:00+00:00</td>\n",
       "      <td>7.365000</td>\n",
       "      <td>29.379175</td>\n",
       "      <td>8.415000</td>\n",
       "      <td>32.856781</td>\n",
       "    </tr>\n",
       "    <tr>\n",
       "      <th>9</th>\n",
       "      <td>88.72</td>\n",
       "      <td>-2291.0</td>\n",
       "      <td>23828.0</td>\n",
       "      <td>2436.0</td>\n",
       "      <td>96.36</td>\n",
       "      <td>-1977.0</td>\n",
       "      <td>23999.0</td>\n",
       "      <td>2595.0</td>\n",
       "      <td>109.63</td>\n",
       "      <td>2022-11-05 13:00:00+00:00</td>\n",
       "      <td>7.415000</td>\n",
       "      <td>28.555965</td>\n",
       "      <td>7.465000</td>\n",
       "      <td>29.304090</td>\n",
       "    </tr>\n",
       "  </tbody>\n",
       "</table>\n",
       "</div>"
      ],
      "text/plain": [
       "   prices  imported_energy  total_load  total_generation_se  prices_lag  \\\n",
       "0   37.00          -2125.0     20363.0               3313.0       55.26   \n",
       "1   77.99          -1354.0     25407.0               3946.0       59.95   \n",
       "2   91.30          -1995.0     26023.0               3295.0       72.17   \n",
       "3   40.21          -1993.0     20767.0               3413.0       38.95   \n",
       "4   76.00          -2009.0     24412.0               3956.0       50.00   \n",
       "5  100.02          -2688.0     25923.0               2546.0       68.35   \n",
       "6  240.55          -2254.0     26481.0               4567.0      122.21   \n",
       "7  129.04          -2620.0     21896.0               2320.0       53.02   \n",
       "8  114.45          -2005.0     24069.0               2731.0      133.83   \n",
       "9   88.72          -2291.0     23828.0               2436.0       96.36   \n",
       "\n",
       "   imported_energy_lag  total_load_lag  total_generation_se_lag  future_price  \\\n",
       "0              -2133.0         20351.0                   2917.0         38.76   \n",
       "1              -1533.0         23883.0                   3924.0         84.40   \n",
       "2              -1895.0         25661.0                   3853.0         97.84   \n",
       "3              -2084.0         20719.0                   3206.0         42.47   \n",
       "4              -2199.0         22447.0                   3951.0         87.20   \n",
       "5              -2452.0         24461.0                   2348.0        103.30   \n",
       "6              -2013.0         26961.0                   4137.0        213.76   \n",
       "7              -2707.0         21278.0                   2272.0        139.39   \n",
       "8              -2155.0         23740.0                   2701.0         96.36   \n",
       "9              -1977.0         23999.0                   2595.0        109.63   \n",
       "\n",
       "                       date  temperature_2m  wind_speed_100m  \\\n",
       "0 2022-11-01 03:00:00+00:00        8.565000        17.283749   \n",
       "1 2022-11-01 07:00:00+00:00        8.264999        16.516901   \n",
       "2 2022-11-02 15:00:00+00:00        9.365000        22.682856   \n",
       "3 2022-11-03 03:00:00+00:00        6.115000        21.933426   \n",
       "4 2022-11-03 06:00:00+00:00        7.465000        15.021105   \n",
       "5 2022-11-04 07:00:00+00:00        8.115000        29.142216   \n",
       "6 2022-11-04 18:00:00+00:00        8.065000        32.839027   \n",
       "7 2022-11-05 07:00:00+00:00        8.415000        29.964457   \n",
       "8 2022-11-05 11:00:00+00:00        7.365000        29.379175   \n",
       "9 2022-11-05 13:00:00+00:00        7.415000        28.555965   \n",
       "\n",
       "   temperature_2m_lag  wind_speed_100m_lag  \n",
       "0            8.615000            16.454008  \n",
       "1            8.214999            14.869351  \n",
       "2           10.615000            21.841648  \n",
       "3            6.065000            19.966211  \n",
       "4            7.215000            17.782686  \n",
       "5            7.715000            28.017622  \n",
       "6            8.014999            32.583481  \n",
       "7            8.415000            29.964457  \n",
       "8            8.415000            32.856781  \n",
       "9            7.465000            29.304090  "
      ]
     },
     "execution_count": 8,
     "metadata": {},
     "output_type": "execute_result"
    }
   ],
   "source": [
    "entsoe_columns = [\n",
    "     'prices', 'imported_energy', 'total_load', 'total_generation_se',\n",
    "     'prices_lag', 'imported_energy_lag', 'total_load_lag',\n",
    "     'total_generation_se_lag', 'future_price'\n",
    " ]\n",
    "\n",
    "weather_columns = [\n",
    "    'date', 'temperature_2m', 'wind_speed_100m',\n",
    "    'temperature_2m_lag', 'wind_speed_100m_lag']\n",
    "\n",
    "selected_features = entsoe_fg.select(entsoe_columns).join(weather_fg.select(weather_columns), on=['date'], join_type='inner')\n",
    "#selected_features = entsoe_query.join(weather_query, on=['date'])\n",
    "\n",
    "\n",
    "\n",
    "# Show the first 10 rows of the feature view to verify\n",
    "selected_features.show(10)"
   ]
  },
  {
   "cell_type": "code",
   "execution_count": 9,
   "metadata": {},
   "outputs": [
    {
     "name": "stdout",
     "output_type": "stream",
     "text": [
      "Feature view created successfully, explore it at \n",
      "https://c.app.hopsworks.ai:443/p/1164446/fs/1155149/fv/electricity_price_fv_3/version/1\n"
     ]
    }
   ],
   "source": [
    "feature_view = fs.get_or_create_feature_view(\n",
    "    name='electricity_price_fv_3',\n",
    "    description=\"weather + entose features with electricity prices as the target\",\n",
    "    version=1,\n",
    "    labels=['future_price'],\n",
    "    query=selected_features,\n",
    ")"
   ]
  },
  {
   "cell_type": "code",
   "execution_count": 10,
   "metadata": {},
   "outputs": [
    {
     "name": "stdout",
     "output_type": "stream",
     "text": [
      "Finished: Reading data from Hopsworks, using Hopsworks Feature Query Service (2.12s) \n",
      "2025-01-06 22:05:39,501 WARNING: VersionWarning: Incremented version to `1`.\n",
      "\n"
     ]
    }
   ],
   "source": [
    "from random import seed\n",
    "\n",
    "\n",
    "X_train, X_test, y_train, y_test = feature_view.train_test_split(\n",
    "    test_size = 0.2, seed=42\n",
    ")"
   ]
  },
  {
   "cell_type": "code",
   "execution_count": 11,
   "metadata": {},
   "outputs": [],
   "source": [
    "# Get the maximum dates in X_train and X_test\n",
    "max_date_train = X_train['date'].max()\n",
    "max_date_test = X_test['date'].max()\n",
    "\n",
    "# Check which dataset contains the maximum date\n",
    "if max_date_train > max_date_test:\n",
    "    max_id = X_train['date'].idxmax()\n",
    "    X_train = X_train.drop(max_id)\n",
    "else:\n",
    "    max_id = X_test['date'].idxmax()\n",
    "    X_test = X_test.drop(max_id)\n",
    "\n",
    "training_features = X_train.drop(columns=['date'])\n",
    "test_features = X_test.drop(columns=['date'])\n",
    "\n",
    "y_train = y_train.dropna()\n",
    "y_test = y_test.dropna()"
   ]
  },
  {
   "cell_type": "code",
   "execution_count": 12,
   "metadata": {},
   "outputs": [
    {
     "name": "stdout",
     "output_type": "stream",
     "text": [
      "14807\n",
      "3703\n",
      "14807\n",
      "3703\n",
      "14807\n",
      "3703\n",
      "Index(['prices', 'imported_energy', 'total_load', 'total_generation_se',\n",
      "       'prices_lag', 'imported_energy_lag', 'total_load_lag',\n",
      "       'total_generation_se_lag', 'temperature_2m', 'wind_speed_100m',\n",
      "       'temperature_2m_lag', 'wind_speed_100m_lag'],\n",
      "      dtype='object')\n"
     ]
    }
   ],
   "source": [
    "#  check length of all dataframes\n",
    "print(len(X_train))\n",
    "print(len(X_test))\n",
    "print(len(y_train))\n",
    "print(len(y_test))\n",
    "\n",
    "print(len(training_features))\n",
    "print(len(test_features))\n",
    "\n",
    "print(training_features.columns)"
   ]
  },
  {
   "cell_type": "code",
   "execution_count": 13,
   "metadata": {},
   "outputs": [],
   "source": [
    "os.makedirs('model', exist_ok=True)"
   ]
  },
  {
   "cell_type": "code",
   "execution_count": 14,
   "metadata": {},
   "outputs": [
    {
     "name": "stdout",
     "output_type": "stream",
     "text": [
      "Training Set Results:\n",
      "  MSE: 49.2746\n",
      "  R²: 0.9898\n",
      "\n",
      "Test Set Results:\n",
      "  MSE: 227.5492\n",
      "  R²: 0.9579\n"
     ]
    }
   ],
   "source": [
    "from sklearn.metrics import mean_squared_error, r2_score\n",
    "\n",
    "# Train the model\n",
    "xgb_regressor = xgb.XGBRegressor(\n",
    "    objective='reg:squarederror',\n",
    "    n_estimators=200,  \n",
    "    learning_rate=0.1,\n",
    "    max_depth=7,\n",
    "    subsample=0.8,\n",
    "    colsample_bytree=1.0,\n",
    "    #  reg_alpha = 1\n",
    "    reg_lambda=1.0  # Moderate L2 regularization\n",
    ")\n",
    "xgb_regressor.fit(training_features, y_train)\n",
    "\n",
    "# Predictions on training and test sets\n",
    "y_train_pred = xgb_regressor.predict(training_features)\n",
    "y_test_pred = xgb_regressor.predict(test_features)\n",
    "\n",
    "# Calculate MSE and R² for training set\n",
    "train_mse = mean_squared_error(y_train, y_train_pred)\n",
    "train_r2 = r2_score(y_train, y_train_pred)\n",
    "\n",
    "# Calculate MSE and R² for test set\n",
    "test_mse = mean_squared_error(y_test.iloc[:, 0], y_test_pred)\n",
    "test_r2 = r2_score(y_test.iloc[:, 0], y_test_pred)\n",
    "\n",
    "# Print results\n",
    "print(\"Training Set Results:\")\n",
    "print(f\"  MSE: {train_mse:.4f}\")\n",
    "print(f\"  R²: {train_r2:.4f}\")\n",
    "\n",
    "print(\"\\nTest Set Results:\")\n",
    "print(f\"  MSE: {test_mse:.4f}\")\n",
    "print(f\"  R²: {test_r2:.4f}\")\n",
    "\n"
   ]
  },
  {
   "cell_type": "code",
   "execution_count": 22,
   "metadata": {},
   "outputs": [],
   "source": [
    "# correlation matrix\n",
    "#import seaborn as sns\n",
    "# import matplotlib.pyplot as plt\n",
    "# plt.figure(figsize=(20,20))\n",
    "# cor = X_train.corr()\n",
    "# sns.heatmap(cor, annot=True, cmap=plt.cm.Reds)\n",
    "# plt.show()\n"
   ]
  },
  {
   "cell_type": "code",
   "execution_count": 15,
   "metadata": {},
   "outputs": [],
   "source": [
    "df = y_test\n",
    "df['predicted_price'] = y_test_pred"
   ]
  },
  {
   "cell_type": "code",
   "execution_count": 16,
   "metadata": {},
   "outputs": [
    {
     "data": {
      "text/html": [
       "<div>\n",
       "<style scoped>\n",
       "    .dataframe tbody tr th:only-of-type {\n",
       "        vertical-align: middle;\n",
       "    }\n",
       "\n",
       "    .dataframe tbody tr th {\n",
       "        vertical-align: top;\n",
       "    }\n",
       "\n",
       "    .dataframe thead th {\n",
       "        text-align: right;\n",
       "    }\n",
       "</style>\n",
       "<table border=\"1\" class=\"dataframe\">\n",
       "  <thead>\n",
       "    <tr style=\"text-align: right;\">\n",
       "      <th></th>\n",
       "      <th>future_price</th>\n",
       "      <th>predicted_price</th>\n",
       "      <th>date</th>\n",
       "    </tr>\n",
       "  </thead>\n",
       "  <tbody>\n",
       "    <tr>\n",
       "      <th>12762</th>\n",
       "      <td>17.00</td>\n",
       "      <td>14.655585</td>\n",
       "      <td>2024-12-31 14:00:00+00:00</td>\n",
       "    </tr>\n",
       "    <tr>\n",
       "      <th>5764</th>\n",
       "      <td>25.98</td>\n",
       "      <td>24.158104</td>\n",
       "      <td>2024-12-31 17:00:00+00:00</td>\n",
       "    </tr>\n",
       "    <tr>\n",
       "      <th>10555</th>\n",
       "      <td>2.16</td>\n",
       "      <td>0.714535</td>\n",
       "      <td>2024-12-31 23:00:00+00:00</td>\n",
       "    </tr>\n",
       "    <tr>\n",
       "      <th>8151</th>\n",
       "      <td>34.69</td>\n",
       "      <td>35.132660</td>\n",
       "      <td>2025-01-06 09:00:00+00:00</td>\n",
       "    </tr>\n",
       "    <tr>\n",
       "      <th>16244</th>\n",
       "      <td>24.86</td>\n",
       "      <td>22.882574</td>\n",
       "      <td>2025-01-06 19:00:00+00:00</td>\n",
       "    </tr>\n",
       "  </tbody>\n",
       "</table>\n",
       "</div>"
      ],
      "text/plain": [
       "       future_price  predicted_price                       date\n",
       "12762         17.00        14.655585  2024-12-31 14:00:00+00:00\n",
       "5764          25.98        24.158104  2024-12-31 17:00:00+00:00\n",
       "10555          2.16         0.714535  2024-12-31 23:00:00+00:00\n",
       "8151          34.69        35.132660  2025-01-06 09:00:00+00:00\n",
       "16244         24.86        22.882574  2025-01-06 19:00:00+00:00"
      ]
     },
     "execution_count": 16,
     "metadata": {},
     "output_type": "execute_result"
    }
   ],
   "source": [
    "df['date'] = X_test['date']\n",
    "df = df.sort_values(by=['date'])\n",
    "df.tail(5)"
   ]
  },
  {
   "cell_type": "code",
   "execution_count": 17,
   "metadata": {},
   "outputs": [
    {
     "name": "stdout",
     "output_type": "stream",
     "text": [
      "2025-01-06 22:06:09,454 WARNING: DeprecationWarning: backend2gui is deprecated since IPython 8.24, backends are managed in matplotlib and can be externally registered.\n",
      "\n"
     ]
    },
    {
     "data": {
      "image/png": "[encoded data removed]",
      "text/plain": [
       "<Figure size 640x480 with 1 Axes>"
      ]
     },
     "metadata": {},
     "output_type": "display_data"
    }
   ],
   "source": [
    "#featureimportanceanalysis\n",
    "from xgboost import plot_importance\n",
    "from matplotlib import pyplot\n",
    "plot_importance(xgb_regressor)\n",
    "pyplot.show()\n"
   ]
  },
  {
   "cell_type": "code",
   "execution_count": 18,
   "metadata": {},
   "outputs": [],
   "source": [
    "model_dir = \"SE3_model\"\n",
    "if not os.path.exists(model_dir):\n",
    "    os.mkdir(model_dir)\n",
    "images_dir = model_dir + \"/images\"\n",
    "if not os.path.exists(images_dir):\n",
    "    os.mkdir(images_dir)"
   ]
  },
  {
   "cell_type": "code",
   "execution_count": 19,
   "metadata": {},
   "outputs": [],
   "source": [
    "from hsml.schema import Schema\n",
    "from hsml.model_schema import ModelSchema\n",
    "\n",
    "# Creating input and output schemas using the 'Schema' class for features (X) and target variable (y)\n",
    "input_schema = Schema(training_features)\n",
    "output_schema = Schema(y_train)\n",
    "\n",
    "# Creating a model schema using 'ModelSchema' with the input and output schemas\n",
    "model_schema = ModelSchema(input_schema=input_schema, output_schema=output_schema)\n",
    "\n",
    "# Converting the model schema to a dictionary representation\n",
    "schema_dict = model_schema.to_dict()"
   ]
  },
  {
   "cell_type": "code",
   "execution_count": 20,
   "metadata": {},
   "outputs": [],
   "source": [
    "xgb_regressor.save_model(model_dir + \"/model_se3.json\")"
   ]
  },
  {
   "cell_type": "code",
   "execution_count": 21,
   "metadata": {},
   "outputs": [],
   "source": [
    "res_dict = { \n",
    "        \"MSE\": str(test_mse),\n",
    "        \"R squared\": str(test_r2),\n",
    "    }"
   ]
  },
  {
   "cell_type": "code",
   "execution_count": 22,
   "metadata": {},
   "outputs": [
    {
     "data": {
      "application/vnd.jupyter.widget-view+json": {
       "model_id": "14f461fce89640d6a62f686af21ebcf4",
       "version_major": 2,
       "version_minor": 0
      },
      "text/plain": [
       "  0%|          | 0/6 [00:00<?, ?it/s]"
      ]
     },
     "metadata": {},
     "output_type": "display_data"
    },
    {
     "data": {
      "application/vnd.jupyter.widget-view+json": {
       "model_id": "942e3b5874ea4dc88acd2d5b23001098",
       "version_major": 2,
       "version_minor": 0
      },
      "text/plain": [
       "Uploading: 0.000%|          | 0/1957039 elapsed<00:00 remaining<?"
      ]
     },
     "metadata": {},
     "output_type": "display_data"
    },
    {
     "data": {
      "application/vnd.jupyter.widget-view+json": {
       "model_id": "ac4ff2a60e9243ce960295432b263b27",
       "version_major": 2,
       "version_minor": 0
      },
      "text/plain": [
       "Uploading: 0.000%|          | 0/176 elapsed<00:00 remaining<?"
      ]
     },
     "metadata": {},
     "output_type": "display_data"
    },
    {
     "data": {
      "application/vnd.jupyter.widget-view+json": {
       "model_id": "1c47b674d98540e88b53057b6faa6985",
       "version_major": 2,
       "version_minor": 0
      },
      "text/plain": [
       "Uploading: 0.000%|          | 0/1126 elapsed<00:00 remaining<?"
      ]
     },
     "metadata": {},
     "output_type": "display_data"
    },
    {
     "name": "stdout",
     "output_type": "stream",
     "text": [
      "Model created, explore it at https://c.app.hopsworks.ai:443/p/1164446/models/electricity_xgboost_model_se3/1\n"
     ]
    },
    {
     "data": {
      "text/plain": [
       "Model(name: 'electricity_xgboost_model_se3', version: 1)"
      ]
     },
     "execution_count": 22,
     "metadata": {},
     "output_type": "execute_result"
    }
   ],
   "source": [
    "mr = project.get_model_registry()\n",
    "\n",
    "# Creating a Python model in the model registry named 'air_quality_xgboost_model'\n",
    "\n",
    "se3_model = mr.python.create_model(\n",
    "    name=\"electricity_xgboost_model_se3\", \n",
    "    metrics= res_dict,\n",
    "    model_schema=model_schema,\n",
    "    input_example=X_test.sample().values, \n",
    "    description=\"Electricity prices predictor for SE3\",\n",
    ")\n",
    "\n",
    "# Saving the model artifacts to the 'air_quality_model' directory in the model registry\n",
    "se3_model.save(model_dir)"
   ]
  }
 ],
 "metadata": {
  "kernelspec": {
   "display_name": "SM1",
   "language": "python",
   "name": "python3"
  },
  "language_info": {
   "codemirror_mode": {
    "name": "ipython",
    "version": 3
   },
   "file_extension": ".py",
   "mimetype": "text/x-python",
   "name": "python",
   "nbconvert_exporter": "python",
   "pygments_lexer": "ipython3",
   "version": "3.11.10"
  }
 },
 "nbformat": 4,
 "nbformat_minor": 2
}
