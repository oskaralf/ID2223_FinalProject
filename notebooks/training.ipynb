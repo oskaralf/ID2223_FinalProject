{
 "cells": [
  {
   "cell_type": "markdown",
   "metadata": {},
   "source": [
    "<span style=\"font-weight:bold; font-size: 3rem; color:#0047AB;\">Model Training Pipeline</span>\n",
    "\n",
    "## 🗒️ This notebook is divided into the following sections:\n",
    "\n",
    "1. Prepare feature view by combining selected columns from feature groups\n",
    "2. Process data for training\n",
    "3. Train model\n",
    "4. Evaluating the model (Feature importance, avoding overfitting...)\n",
    "5. Saving and uploading model to Hopsworks\n"
   ]
  },
  {
   "cell_type": "markdown",
   "metadata": {},
   "source": [
    "## <span style='color:#ff5f27'> Imports</span>"
   ]
  },
  {
   "cell_type": "code",
   "execution_count": 59,
   "metadata": {},
   "outputs": [],
   "source": [
    "import pandas as pd\n",
    "import os\n",
    "import numpy as np\n",
    "import requests\n",
    "import datetime\n",
    "import xgboost as xgb\n",
    "from sklearn.model_selection import train_test_split\n",
    "from sklearn.metrics import mean_squared_error, r2_score\n",
    "import datetime\n",
    "import time\n",
    "import json\n",
    "from geopy.geocoders import Nominatim\n",
    "import matplotlib.pyplot as plt\n",
    "from matplotlib.patches import Patch\n",
    "from matplotlib.ticker import MultipleLocator\n",
    "import openmeteo_requests\n",
    "import requests_cache\n",
    "from retry_requests import retry\n",
    "import hsfs\n",
    "from pathlib import Path\n",
    "from dotenv import load_dotenv\n",
    "import hopsworks\n",
    "import sys\n",
    "\n",
    "root_dir = Path().resolve().parent\n",
    "sys.path.append(str(root_dir))\n",
    "\n",
    "from format_data import format_weather_data, format_price_data, merge_data\n",
    "from get_electricity_prices import get_data\n",
    "from get_weather_data import get_historical_weather, get_weather_forecast\n",
    "\n",
    "import xgboost as xgb\n",
    "from sklearn.model_selection import train_test_split\n",
    "from sklearn.metrics import mean_squared_error, r2_score\n",
    "\n",
    "from format_data import format_weather_data, format_price_data, process_weather_data\n",
    "from get_electricity_prices import get_data\n",
    "from get_weather_data import get_historical_weather, get_weather_forecast\n",
    "from entsoe_data import fetch_historical_data, ensure_valid_series"
   ]
  },
  {
   "cell_type": "markdown",
   "metadata": {},
   "source": [
    "### Connect to Hopsworks and retrieve feature store"
   ]
  },
  {
   "cell_type": "code",
   "execution_count": 60,
   "metadata": {},
   "outputs": [
    {
     "name": "stdout",
     "output_type": "stream",
     "text": [
      "2025-01-07 12:27:08,135 INFO: Closing external client and cleaning up certificates.\n",
      "Connection closed.\n",
      "2025-01-07 12:27:08,163 INFO: Initializing external client\n",
      "2025-01-07 12:27:08,164 INFO: Base URL: https://c.app.hopsworks.ai:443\n",
      "2025-01-07 12:27:09,470 INFO: Python Engine initialized.\n",
      "\n",
      "Logged in to project, explore it here https://c.app.hopsworks.ai:443/p/1169556\n",
      "Connected to project: sthaji\n"
     ]
    }
   ],
   "source": [
    "load_dotenv()\n",
    "hopsworks_api = os.getenv(\"HOPSWORKS_API_KEY\")\n",
    "\n",
    "os.environ[\"HOPSWORKS_API_KEY\"] = hopsworks_api\n",
    "\n",
    "project = hopsworks.login()\n",
    "\n",
    "print(f\"Connected to project: {project.name}\")"
   ]
  },
  {
   "cell_type": "code",
   "execution_count": 61,
   "metadata": {},
   "outputs": [],
   "source": [
    "fs = project.get_feature_store()"
   ]
  },
  {
   "cell_type": "code",
   "execution_count": 62,
   "metadata": {},
   "outputs": [],
   "source": [
    "weather_fg = fs.get_feature_group(\n",
    "    name='weather_data_3',\n",
    "    version=1,\n",
    ")\n",
    "\n",
    "entsoe_fg = fs.get_feature_group(\n",
    "    name='entsoe_data_3',\n",
    "    version=1,\n",
    ")"
   ]
  },
  {
   "cell_type": "markdown",
   "metadata": {},
   "source": [
    "## <span style='color:#ff5f27'> Prepare feature view by combining selected columns from feature groups</span>"
   ]
  },
  {
   "cell_type": "markdown",
   "metadata": {},
   "source": [
    "### Feature selection"
   ]
  },
  {
   "cell_type": "markdown",
   "metadata": {},
   "source": [
    "Here different columns have been tested to make sure model is not overfitting"
   ]
  },
  {
   "cell_type": "code",
   "execution_count": 108,
   "metadata": {},
   "outputs": [
    {
     "name": "stdout",
     "output_type": "stream",
     "text": [
      "Finished: Reading data from Hopsworks, using Hopsworks Feature Query Service (1.81s) \n"
     ]
    },
    {
     "data": {
      "text/html": [
       "<div>\n",
       "<style scoped>\n",
       "    .dataframe tbody tr th:only-of-type {\n",
       "        vertical-align: middle;\n",
       "    }\n",
       "\n",
       "    .dataframe tbody tr th {\n",
       "        vertical-align: top;\n",
       "    }\n",
       "\n",
       "    .dataframe thead th {\n",
       "        text-align: right;\n",
       "    }\n",
       "</style>\n",
       "<table border=\"1\" class=\"dataframe\">\n",
       "  <thead>\n",
       "    <tr style=\"text-align: right;\">\n",
       "      <th></th>\n",
       "      <th>prices</th>\n",
       "      <th>imported_energy</th>\n",
       "      <th>total_load</th>\n",
       "      <th>total_generation_se</th>\n",
       "      <th>prices_lag</th>\n",
       "      <th>imported_energy_lag</th>\n",
       "      <th>total_load_lag</th>\n",
       "      <th>future_price</th>\n",
       "      <th>date</th>\n",
       "      <th>temperature_2m</th>\n",
       "      <th>wind_speed_100m</th>\n",
       "    </tr>\n",
       "  </thead>\n",
       "  <tbody>\n",
       "    <tr>\n",
       "      <th>0</th>\n",
       "      <td>37.00</td>\n",
       "      <td>-2125.0</td>\n",
       "      <td>20363.0</td>\n",
       "      <td>3313.0</td>\n",
       "      <td>55.26</td>\n",
       "      <td>-2133.0</td>\n",
       "      <td>20351.0</td>\n",
       "      <td>38.76</td>\n",
       "      <td>2022-11-01 03:00:00+00:00</td>\n",
       "      <td>8.565000</td>\n",
       "      <td>17.283749</td>\n",
       "    </tr>\n",
       "    <tr>\n",
       "      <th>1</th>\n",
       "      <td>77.99</td>\n",
       "      <td>-1354.0</td>\n",
       "      <td>25407.0</td>\n",
       "      <td>3946.0</td>\n",
       "      <td>59.95</td>\n",
       "      <td>-1533.0</td>\n",
       "      <td>23883.0</td>\n",
       "      <td>84.40</td>\n",
       "      <td>2022-11-01 07:00:00+00:00</td>\n",
       "      <td>8.264999</td>\n",
       "      <td>16.516901</td>\n",
       "    </tr>\n",
       "    <tr>\n",
       "      <th>2</th>\n",
       "      <td>91.30</td>\n",
       "      <td>-1995.0</td>\n",
       "      <td>26023.0</td>\n",
       "      <td>3295.0</td>\n",
       "      <td>72.17</td>\n",
       "      <td>-1895.0</td>\n",
       "      <td>25661.0</td>\n",
       "      <td>97.84</td>\n",
       "      <td>2022-11-02 15:00:00+00:00</td>\n",
       "      <td>9.365000</td>\n",
       "      <td>22.682856</td>\n",
       "    </tr>\n",
       "    <tr>\n",
       "      <th>3</th>\n",
       "      <td>40.21</td>\n",
       "      <td>-1993.0</td>\n",
       "      <td>20767.0</td>\n",
       "      <td>3413.0</td>\n",
       "      <td>38.95</td>\n",
       "      <td>-2084.0</td>\n",
       "      <td>20719.0</td>\n",
       "      <td>42.47</td>\n",
       "      <td>2022-11-03 03:00:00+00:00</td>\n",
       "      <td>6.115000</td>\n",
       "      <td>21.933426</td>\n",
       "    </tr>\n",
       "    <tr>\n",
       "      <th>4</th>\n",
       "      <td>76.00</td>\n",
       "      <td>-2009.0</td>\n",
       "      <td>24412.0</td>\n",
       "      <td>3956.0</td>\n",
       "      <td>50.00</td>\n",
       "      <td>-2199.0</td>\n",
       "      <td>22447.0</td>\n",
       "      <td>87.20</td>\n",
       "      <td>2022-11-03 06:00:00+00:00</td>\n",
       "      <td>7.465000</td>\n",
       "      <td>15.021105</td>\n",
       "    </tr>\n",
       "    <tr>\n",
       "      <th>5</th>\n",
       "      <td>100.02</td>\n",
       "      <td>-2688.0</td>\n",
       "      <td>25923.0</td>\n",
       "      <td>2546.0</td>\n",
       "      <td>68.35</td>\n",
       "      <td>-2452.0</td>\n",
       "      <td>24461.0</td>\n",
       "      <td>103.30</td>\n",
       "      <td>2022-11-04 07:00:00+00:00</td>\n",
       "      <td>8.115000</td>\n",
       "      <td>29.142216</td>\n",
       "    </tr>\n",
       "    <tr>\n",
       "      <th>6</th>\n",
       "      <td>240.55</td>\n",
       "      <td>-2254.0</td>\n",
       "      <td>26481.0</td>\n",
       "      <td>4567.0</td>\n",
       "      <td>122.21</td>\n",
       "      <td>-2013.0</td>\n",
       "      <td>26961.0</td>\n",
       "      <td>213.76</td>\n",
       "      <td>2022-11-04 18:00:00+00:00</td>\n",
       "      <td>8.065000</td>\n",
       "      <td>32.839027</td>\n",
       "    </tr>\n",
       "    <tr>\n",
       "      <th>7</th>\n",
       "      <td>129.04</td>\n",
       "      <td>-2620.0</td>\n",
       "      <td>21896.0</td>\n",
       "      <td>2320.0</td>\n",
       "      <td>53.02</td>\n",
       "      <td>-2707.0</td>\n",
       "      <td>21278.0</td>\n",
       "      <td>139.39</td>\n",
       "      <td>2022-11-05 07:00:00+00:00</td>\n",
       "      <td>8.415000</td>\n",
       "      <td>29.964457</td>\n",
       "    </tr>\n",
       "    <tr>\n",
       "      <th>8</th>\n",
       "      <td>114.45</td>\n",
       "      <td>-2005.0</td>\n",
       "      <td>24069.0</td>\n",
       "      <td>2731.0</td>\n",
       "      <td>133.83</td>\n",
       "      <td>-2155.0</td>\n",
       "      <td>23740.0</td>\n",
       "      <td>96.36</td>\n",
       "      <td>2022-11-05 11:00:00+00:00</td>\n",
       "      <td>7.365000</td>\n",
       "      <td>29.379175</td>\n",
       "    </tr>\n",
       "    <tr>\n",
       "      <th>9</th>\n",
       "      <td>88.72</td>\n",
       "      <td>-2291.0</td>\n",
       "      <td>23828.0</td>\n",
       "      <td>2436.0</td>\n",
       "      <td>96.36</td>\n",
       "      <td>-1977.0</td>\n",
       "      <td>23999.0</td>\n",
       "      <td>109.63</td>\n",
       "      <td>2022-11-05 13:00:00+00:00</td>\n",
       "      <td>7.415000</td>\n",
       "      <td>28.555965</td>\n",
       "    </tr>\n",
       "  </tbody>\n",
       "</table>\n",
       "</div>"
      ],
      "text/plain": [
       "   prices  imported_energy  total_load  total_generation_se  prices_lag  \\\n",
       "0   37.00          -2125.0     20363.0               3313.0       55.26   \n",
       "1   77.99          -1354.0     25407.0               3946.0       59.95   \n",
       "2   91.30          -1995.0     26023.0               3295.0       72.17   \n",
       "3   40.21          -1993.0     20767.0               3413.0       38.95   \n",
       "4   76.00          -2009.0     24412.0               3956.0       50.00   \n",
       "5  100.02          -2688.0     25923.0               2546.0       68.35   \n",
       "6  240.55          -2254.0     26481.0               4567.0      122.21   \n",
       "7  129.04          -2620.0     21896.0               2320.0       53.02   \n",
       "8  114.45          -2005.0     24069.0               2731.0      133.83   \n",
       "9   88.72          -2291.0     23828.0               2436.0       96.36   \n",
       "\n",
       "   imported_energy_lag  total_load_lag  future_price  \\\n",
       "0              -2133.0         20351.0         38.76   \n",
       "1              -1533.0         23883.0         84.40   \n",
       "2              -1895.0         25661.0         97.84   \n",
       "3              -2084.0         20719.0         42.47   \n",
       "4              -2199.0         22447.0         87.20   \n",
       "5              -2452.0         24461.0        103.30   \n",
       "6              -2013.0         26961.0        213.76   \n",
       "7              -2707.0         21278.0        139.39   \n",
       "8              -2155.0         23740.0         96.36   \n",
       "9              -1977.0         23999.0        109.63   \n",
       "\n",
       "                       date  temperature_2m  wind_speed_100m  \n",
       "0 2022-11-01 03:00:00+00:00        8.565000        17.283749  \n",
       "1 2022-11-01 07:00:00+00:00        8.264999        16.516901  \n",
       "2 2022-11-02 15:00:00+00:00        9.365000        22.682856  \n",
       "3 2022-11-03 03:00:00+00:00        6.115000        21.933426  \n",
       "4 2022-11-03 06:00:00+00:00        7.465000        15.021105  \n",
       "5 2022-11-04 07:00:00+00:00        8.115000        29.142216  \n",
       "6 2022-11-04 18:00:00+00:00        8.065000        32.839027  \n",
       "7 2022-11-05 07:00:00+00:00        8.415000        29.964457  \n",
       "8 2022-11-05 11:00:00+00:00        7.365000        29.379175  \n",
       "9 2022-11-05 13:00:00+00:00        7.415000        28.555965  "
      ]
     },
     "execution_count": 108,
     "metadata": {},
     "output_type": "execute_result"
    }
   ],
   "source": [
    "entsoe_columns = [\n",
    "     'prices', 'imported_energy', 'total_load', 'total_generation_se',\n",
    "     'prices_lag', 'imported_energy_lag', 'total_load_lag', 'future_price'\n",
    " ]\n",
    "\n",
    "weather_columns = [\n",
    "    'date', 'temperature_2m', 'wind_speed_100m']\n",
    "    #'temperature_2m_lag', 'wind_speed_100m_lag']\n",
    "\n",
    "selected_features = entsoe_fg.select(entsoe_columns).join(weather_fg.select(weather_columns), on=['date'], join_type='inner')\n",
    "#selected_features = entsoe_query.join(weather_query, on=['date'])\n",
    "\n",
    "\n",
    "\n",
    "# Show the first 10 rows of the feature view to verify\n",
    "selected_features.show(10)"
   ]
  },
  {
   "cell_type": "markdown",
   "metadata": {},
   "source": [
    "### Creating feature view"
   ]
  },
  {
   "cell_type": "code",
   "execution_count": 109,
   "metadata": {},
   "outputs": [
    {
     "name": "stdout",
     "output_type": "stream",
     "text": [
      "Feature view created successfully, explore it at \n",
      "https://c.app.hopsworks.ai:443/p/1169556/fs/1160259/fv/electricity_price_fv_3/version/1\n"
     ]
    }
   ],
   "source": [
    "feature_view = fs.get_or_create_feature_view(\n",
    "    name='electricity_price_fv_3',\n",
    "    description=\"weather + entose features with electricity prices as the target\",\n",
    "    version=1,\n",
    "    labels=['future_price'],\n",
    "    query=selected_features,\n",
    ")"
   ]
  },
  {
   "cell_type": "markdown",
   "metadata": {},
   "source": [
    "## <span style='color:#ff5f27'> Process data for training</span>"
   ]
  },
  {
   "cell_type": "code",
   "execution_count": 135,
   "metadata": {},
   "outputs": [
    {
     "name": "stdout",
     "output_type": "stream",
     "text": [
      "Finished: Reading data from Hopsworks, using Hopsworks Feature Query Service (2.62s) \n",
      "2025-01-07 13:02:22,468 WARNING: VersionWarning: Incremented version to `2`.\n",
      "\n",
      "2025-01-07 13:02:22,469 INFO: Provenance cached data - overwriting last accessed/created training dataset from 1 to 2.\n"
     ]
    }
   ],
   "source": [
    "from random import seed\n",
    "\n",
    "\n",
    "X_train, X_test, y_train, y_test = feature_view.train_test_split(\n",
    "    test_size = 0.2, seed=42\n",
    ")"
   ]
  },
  {
   "cell_type": "markdown",
   "metadata": {},
   "source": [
    "### If contains fresh data, need to remove NaN values (y-label is NaN)"
   ]
  },
  {
   "cell_type": "code",
   "execution_count": 136,
   "metadata": {},
   "outputs": [],
   "source": [
    "# Get the maximum dates in X_train and X_test\n",
    "max_date_train = X_train['date'].max()\n",
    "max_date_test = X_test['date'].max()\n",
    "\n",
    "# Check which dataset contains the maximum date\n",
    "if max_date_train > max_date_test:\n",
    "    max_id = X_train['date'].idxmax()\n",
    "    X_train = X_train.drop(max_id)\n",
    "else:\n",
    "    max_id = X_test['date'].idxmax()\n",
    "    X_test = X_test.drop(max_id)\n",
    "\n",
    "training_features = X_train.drop(columns=['date'])\n",
    "test_features = X_test.drop(columns=['date'])\n",
    "\n",
    "y_train = y_train.dropna()\n",
    "y_test = y_test.dropna()"
   ]
  },
  {
   "cell_type": "code",
   "execution_count": 137,
   "metadata": {},
   "outputs": [
    {
     "name": "stdout",
     "output_type": "stream",
     "text": [
      "14804\n",
      "3702\n",
      "14804\n",
      "3702\n",
      "14804\n",
      "3702\n",
      "Index(['prices', 'imported_energy', 'total_load', 'total_generation_se',\n",
      "       'prices_lag', 'imported_energy_lag', 'total_load_lag', 'temperature_2m',\n",
      "       'wind_speed_100m'],\n",
      "      dtype='object')\n"
     ]
    }
   ],
   "source": [
    "#  check length of all dataframes\n",
    "print(len(X_train))\n",
    "print(len(X_test))\n",
    "print(len(y_train))\n",
    "print(len(y_test))\n",
    "\n",
    "print(len(training_features))\n",
    "print(len(test_features))\n",
    "\n",
    "print(training_features.columns)"
   ]
  },
  {
   "cell_type": "code",
   "execution_count": 138,
   "metadata": {},
   "outputs": [],
   "source": [
    "os.makedirs('model', exist_ok=True)"
   ]
  },
  {
   "cell_type": "markdown",
   "metadata": {},
   "source": [
    "## <span style='color:#ff5f27'> Train XGB Regressor model</span>"
   ]
  },
  {
   "cell_type": "markdown",
   "metadata": {},
   "source": [
    "In this section also comparing MSE for both training and test sets. "
   ]
  },
  {
   "cell_type": "code",
   "execution_count": 139,
   "metadata": {},
   "outputs": [
    {
     "name": "stdout",
     "output_type": "stream",
     "text": [
      "Training Set Results:\n",
      "  MSE: 58.3663\n",
      "  R²: 0.9883\n",
      "\n",
      "Test Set Results:\n",
      "  MSE: 309.1486\n",
      "  R²: 0.9364\n",
      "Accuracy: 93.64%\n"
     ]
    }
   ],
   "source": [
    "from sklearn.metrics import mean_squared_error, r2_score\n",
    "\n",
    "# Train the model\n",
    "xgb_regressor = xgb.XGBRegressor(\n",
    "    objective='reg:squarederror',\n",
    "    n_estimators=200,  \n",
    "    learning_rate=0.1,\n",
    "    max_depth=7,\n",
    "    subsample=0.8,\n",
    "    colsample_bytree=1.0,\n",
    "    reg_alpha = 30.0,  # L1 regularization\n",
    "    # reg_lambda = 3.0  # L2 regularization\n",
    ")\n",
    "xgb_regressor.fit(training_features, y_train)\n",
    "\n",
    "# Predictions on training and test sets\n",
    "y_train_pred = xgb_regressor.predict(training_features)\n",
    "y_test_pred = xgb_regressor.predict(test_features)\n",
    "\n",
    "# Calculate MSE and R² for training set\n",
    "train_mse = mean_squared_error(y_train, y_train_pred)\n",
    "train_r2 = r2_score(y_train, y_train_pred)\n",
    "\n",
    "# Calculate MSE and R² for test set\n",
    "test_mse = mean_squared_error(y_test.iloc[:, 0], y_test_pred)\n",
    "test_r2 = r2_score(y_test.iloc[:, 0], y_test_pred)\n",
    "\n",
    "# Print results\n",
    "print(\"Training Set Results:\")\n",
    "print(f\"  MSE: {train_mse:.4f}\")\n",
    "print(f\"  R²: {train_r2:.4f}\")\n",
    "\n",
    "print(\"\\nTest Set Results:\")\n",
    "print(f\"  MSE: {test_mse:.4f}\")\n",
    "print(f\"  R²: {test_r2:.4f}\")\n",
    "\n",
    "# # print accuracy\n",
    "# accuracy = xgb_regressor.score(test_features, y_test)\n",
    "# print(f\"Accuracy: {accuracy * 100.0:.2f}%\")\n",
    "\n"
   ]
  },
  {
   "cell_type": "markdown",
   "metadata": {},
   "source": [
    "### Apart from a complete grid search, also regularly checking best param for L1 Regularization"
   ]
  },
  {
   "cell_type": "code",
   "execution_count": null,
   "metadata": {},
   "outputs": [
    {
     "name": "stdout",
     "output_type": "stream",
     "text": [
      "Best reg_alpha: 30.0\n",
      "{'reg_alpha': 30.0}\n"
     ]
    }
   ],
   "source": [
    "# from sklearn.model_selection import GridSearchCV\n",
    "\n",
    "# param_grid = {\n",
    "#     'reg_alpha': [0.1, 1.0, 10.0, 20.0, 30.0, 40.0, 50.0, 60.0, 70.0, 80.0, 90.0, 100.0]\n",
    "# }\n",
    "\n",
    "# grid_search = GridSearchCV(estimator=xgb_regressor, param_grid=param_grid, cv=5, scoring='neg_mean_squared_error')\n",
    "# grid_search.fit(training_features, y_train)\n",
    "\n",
    "# print(\"Best reg_alpha:\", grid_search.best_params_['reg_alpha'])\n",
    "# # print all best params\n",
    "# print(grid_search.best_params_)"
   ]
  },
  {
   "cell_type": "code",
   "execution_count": 83,
   "metadata": {},
   "outputs": [],
   "source": [
    "# correlation matrix\n",
    "#import seaborn as sns\n",
    "# import matplotlib.pyplot as plt\n",
    "# plt.figure(figsize=(20,20))\n",
    "# cor = X_train.corr()\n",
    "# sns.heatmap(cor, annot=True, cmap=plt.cm.Reds)\n",
    "# plt.show()\n"
   ]
  },
  {
   "cell_type": "markdown",
   "metadata": {},
   "source": [
    "## <span style='color:#ff5f27'> Evaluate model</span>"
   ]
  },
  {
   "cell_type": "code",
   "execution_count": 133,
   "metadata": {},
   "outputs": [
    {
     "name": "stdout",
     "output_type": "stream",
     "text": [
      "inf\n"
     ]
    }
   ],
   "source": [
    "df = y_test\n",
    "df['predicted_price'] = y_test_pred"
   ]
  },
  {
   "cell_type": "markdown",
   "metadata": {},
   "source": [
    "Printing to get overview of accuracy of model"
   ]
  },
  {
   "cell_type": "code",
   "execution_count": 125,
   "metadata": {},
   "outputs": [
    {
     "data": {
      "text/html": [
       "<div>\n",
       "<style scoped>\n",
       "    .dataframe tbody tr th:only-of-type {\n",
       "        vertical-align: middle;\n",
       "    }\n",
       "\n",
       "    .dataframe tbody tr th {\n",
       "        vertical-align: top;\n",
       "    }\n",
       "\n",
       "    .dataframe thead th {\n",
       "        text-align: right;\n",
       "    }\n",
       "</style>\n",
       "<table border=\"1\" class=\"dataframe\">\n",
       "  <thead>\n",
       "    <tr style=\"text-align: right;\">\n",
       "      <th></th>\n",
       "      <th>future_price</th>\n",
       "      <th>predicted_price</th>\n",
       "      <th>date</th>\n",
       "    </tr>\n",
       "  </thead>\n",
       "  <tbody>\n",
       "    <tr>\n",
       "      <th>18503</th>\n",
       "      <td>0.52</td>\n",
       "      <td>9.009863</td>\n",
       "      <td>2024-12-31 22:00:00+00:00</td>\n",
       "    </tr>\n",
       "    <tr>\n",
       "      <th>10554</th>\n",
       "      <td>2.16</td>\n",
       "      <td>0.615668</td>\n",
       "      <td>2024-12-31 23:00:00+00:00</td>\n",
       "    </tr>\n",
       "    <tr>\n",
       "      <th>11676</th>\n",
       "      <td>10.00</td>\n",
       "      <td>10.776968</td>\n",
       "      <td>2025-01-06 03:00:00+00:00</td>\n",
       "    </tr>\n",
       "    <tr>\n",
       "      <th>17337</th>\n",
       "      <td>23.82</td>\n",
       "      <td>21.540764</td>\n",
       "      <td>2025-01-06 05:00:00+00:00</td>\n",
       "    </tr>\n",
       "    <tr>\n",
       "      <th>9341</th>\n",
       "      <td>26.87</td>\n",
       "      <td>26.760324</td>\n",
       "      <td>2025-01-06 15:00:00+00:00</td>\n",
       "    </tr>\n",
       "  </tbody>\n",
       "</table>\n",
       "</div>"
      ],
      "text/plain": [
       "       future_price  predicted_price                       date\n",
       "18503          0.52         9.009863  2024-12-31 22:00:00+00:00\n",
       "10554          2.16         0.615668  2024-12-31 23:00:00+00:00\n",
       "11676         10.00        10.776968  2025-01-06 03:00:00+00:00\n",
       "17337         23.82        21.540764  2025-01-06 05:00:00+00:00\n",
       "9341          26.87        26.760324  2025-01-06 15:00:00+00:00"
      ]
     },
     "execution_count": 125,
     "metadata": {},
     "output_type": "execute_result"
    }
   ],
   "source": [
    "df['date'] = X_test['date']\n",
    "df = df.sort_values(by=['date'])\n",
    "df.tail(5)"
   ]
  },
  {
   "cell_type": "markdown",
   "metadata": {},
   "source": [
    "### Feature importance analysis to avoid overfitting and simplify model"
   ]
  },
  {
   "cell_type": "code",
   "execution_count": 127,
   "metadata": {},
   "outputs": [
    {
     "data": {
      "image/png": "[encoded data removed]",
      "text/plain": [
       "<Figure size 640x480 with 1 Axes>"
      ]
     },
     "metadata": {},
     "output_type": "display_data"
    }
   ],
   "source": [
    "\n",
    "from xgboost import plot_importance\n",
    "from matplotlib import pyplot\n",
    "plot_importance(xgb_regressor)\n",
    "pyplot.show()\n"
   ]
  },
  {
   "cell_type": "markdown",
   "metadata": {},
   "source": [
    "## <span style='color:#ff5f27'> Save and upload model to Hopsworks</span>"
   ]
  },
  {
   "cell_type": "code",
   "execution_count": 128,
   "metadata": {},
   "outputs": [],
   "source": [
    "model_dir = \"SE3_model\"\n",
    "if not os.path.exists(model_dir):\n",
    "    os.mkdir(model_dir)\n",
    "images_dir = model_dir + \"/images\"\n",
    "if not os.path.exists(images_dir):\n",
    "    os.mkdir(images_dir)"
   ]
  },
  {
   "cell_type": "code",
   "execution_count": 129,
   "metadata": {},
   "outputs": [],
   "source": [
    "from hsml.schema import Schema\n",
    "from hsml.model_schema import ModelSchema\n",
    "\n",
    "# Creating input and output schemas using the 'Schema' class for features (X) and target variable (y)\n",
    "input_schema = Schema(training_features)\n",
    "output_schema = Schema(y_train)\n",
    "\n",
    "# Creating a model schema using 'ModelSchema' with the input and output schemas\n",
    "model_schema = ModelSchema(input_schema=input_schema, output_schema=output_schema)\n",
    "\n",
    "# Converting the model schema to a dictionary representation\n",
    "schema_dict = model_schema.to_dict()"
   ]
  },
  {
   "cell_type": "code",
   "execution_count": 130,
   "metadata": {},
   "outputs": [],
   "source": [
    "xgb_regressor.save_model(model_dir + \"/model_se3.json\")"
   ]
  },
  {
   "cell_type": "code",
   "execution_count": 131,
   "metadata": {},
   "outputs": [],
   "source": [
    "res_dict = { \n",
    "        \"MSE\": str(test_mse),\n",
    "        \"R squared\": str(test_r2),\n",
    "    }"
   ]
  },
  {
   "cell_type": "code",
   "execution_count": 132,
   "metadata": {},
   "outputs": [
    {
     "data": {
      "application/vnd.jupyter.widget-view+json": {
       "model_id": "5fb1ebd977fb4cb2a62d7f4390d47e87",
       "version_major": 2,
       "version_minor": 0
      },
      "text/plain": [
       "  0%|          | 0/6 [00:00<?, ?it/s]"
      ]
     },
     "metadata": {},
     "output_type": "display_data"
    },
    {
     "data": {
      "application/vnd.jupyter.widget-view+json": {
       "model_id": "973164289cda4715a9739063d31fc9fe",
       "version_major": 2,
       "version_minor": 0
      },
      "text/plain": [
       "Uploading: 0.000%|          | 0/1880341 elapsed<00:00 remaining<?"
      ]
     },
     "metadata": {},
     "output_type": "display_data"
    },
    {
     "data": {
      "application/vnd.jupyter.widget-view+json": {
       "model_id": "393d197bbead401889cee31035ae1a79",
       "version_major": 2,
       "version_minor": 0
      },
      "text/plain": [
       "Uploading: 0.000%|          | 0/128 elapsed<00:00 remaining<?"
      ]
     },
     "metadata": {},
     "output_type": "display_data"
    },
    {
     "data": {
      "application/vnd.jupyter.widget-view+json": {
       "model_id": "6d1808ebff9d452dad5ee4edc070ed99",
       "version_major": 2,
       "version_minor": 0
      },
      "text/plain": [
       "Uploading: 0.000%|          | 0/877 elapsed<00:00 remaining<?"
      ]
     },
     "metadata": {},
     "output_type": "display_data"
    },
    {
     "name": "stdout",
     "output_type": "stream",
     "text": [
      "Model created, explore it at https://c.app.hopsworks.ai:443/p/1169556/models/electricity_xgboost_model_se3/3\n"
     ]
    },
    {
     "data": {
      "text/plain": [
       "Model(name: 'electricity_xgboost_model_se3', version: 3)"
      ]
     },
     "execution_count": 132,
     "metadata": {},
     "output_type": "execute_result"
    }
   ],
   "source": [
    "mr = project.get_model_registry()\n",
    "\n",
    "# Creating a Python model in the model registry named 'air_quality_xgboost_model'\n",
    "\n",
    "se3_model = mr.python.create_model(\n",
    "    name=\"electricity_xgboost_model_se3\", \n",
    "    metrics= res_dict,\n",
    "    model_schema=model_schema,\n",
    "    input_example=X_test.sample().values, \n",
    "    description=\"Electricity prices predictor for SE3\",\n",
    ")\n",
    "\n",
    "# Saving the model artifacts to the 'air_quality_model' directory in the model registry\n",
    "se3_model.save(model_dir)"
   ]
  }
 ],
 "metadata": {
  "kernelspec": {
   "display_name": "SM1",
   "language": "python",
   "name": "python3"
  },
  "language_info": {
   "codemirror_mode": {
    "name": "ipython",
    "version": 3
   },
   "file_extension": ".py",
   "mimetype": "text/x-python",
   "name": "python",
   "nbconvert_exporter": "python",
   "pygments_lexer": "ipython3",
   "version": "3.11.10"
  }
 },
 "nbformat": 4,
 "nbformat_minor": 2
}
