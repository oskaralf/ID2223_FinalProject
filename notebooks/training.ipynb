{
 "cells": [
  {
   "cell_type": "code",
   "execution_count": 1,
   "metadata": {},
   "outputs": [],
   "source": [
    "import pandas as pd\n",
    "import os\n",
    "import numpy as np\n",
    "import requests\n",
    "import datetime\n",
    "import xgboost as xgb\n",
    "from sklearn.model_selection import train_test_split\n",
    "from sklearn.metrics import mean_squared_error, r2_score\n",
    "import datetime\n",
    "import time\n",
    "import json\n",
    "from geopy.geocoders import Nominatim\n",
    "import matplotlib.pyplot as plt\n",
    "from matplotlib.patches import Patch\n",
    "from matplotlib.ticker import MultipleLocator\n",
    "import openmeteo_requests\n",
    "import requests_cache\n",
    "from retry_requests import retry\n",
    "import hsfs\n",
    "from pathlib import Path\n",
    "from dotenv import load_dotenv\n",
    "import hopsworks\n",
    "import sys\n",
    "\n",
    "root_dir = Path().resolve().parent\n",
    "sys.path.append(str(root_dir))\n",
    "\n",
    "from format_data import format_weather_data, format_price_data, merge_data\n",
    "from get_electricity_prices import get_data\n",
    "from get_weather_data import get_historical_weather, get_weather_forecast\n",
    "\n",
    "import xgboost as xgb\n",
    "from sklearn.model_selection import train_test_split\n",
    "from sklearn.metrics import mean_squared_error, r2_score\n",
    "\n",
    "from format_data import format_weather_data, format_price_data, process_weather_data\n",
    "from get_electricity_prices import get_data\n",
    "from get_weather_data import get_historical_weather, get_weather_forecast\n",
    "from entsoe_data import fetch_historical_data, ensure_valid_series"
   ]
  },
  {
   "cell_type": "code",
   "execution_count": 2,
   "metadata": {},
   "outputs": [
    {
     "name": "stdout",
     "output_type": "stream",
     "text": [
      "2025-01-06 11:22:11,998 INFO: Initializing external client\n",
      "2025-01-06 11:22:12,001 INFO: Base URL: https://c.app.hopsworks.ai:443\n",
      "2025-01-06 11:22:14,135 INFO: Python Engine initialized.\n",
      "\n",
      "Logged in to project, explore it here https://c.app.hopsworks.ai:443/p/1164446\n",
      "Connected to project: oskaralf\n"
     ]
    }
   ],
   "source": [
    "load_dotenv()\n",
    "hopsworks_api = os.getenv(\"HOPSWORKS_API_KEY\")\n",
    "\n",
    "os.environ[\"HOPSWORKS_API_KEY\"] = hopsworks_api\n",
    "\n",
    "project = hopsworks.login()\n",
    "\n",
    "print(f\"Connected to project: {project.name}\")"
   ]
  },
  {
   "cell_type": "code",
   "execution_count": 3,
   "metadata": {},
   "outputs": [],
   "source": [
    "def get_feature_group_as_dataframe(project_name, feature_group_name, version=1):\n",
    "    fs = project.get_feature_store()\n",
    "    feature_group = fs.get_feature_group(name=feature_group_name, version=version)\n",
    "    df = feature_group.read()\n",
    "    return df"
   ]
  },
  {
   "cell_type": "code",
   "execution_count": 4,
   "metadata": {},
   "outputs": [],
   "source": [
    "fs = project.get_feature_store()"
   ]
  },
  {
   "cell_type": "code",
   "execution_count": 6,
   "metadata": {},
   "outputs": [
    {
     "name": "stdout",
     "output_type": "stream",
     "text": [
      "Finished: Reading data from Hopsworks, using Hopsworks Feature Query Service (1.34s) \n",
      "Finished: Reading data from Hopsworks, using Hopsworks Feature Query Service (1.61s) \n"
     ]
    }
   ],
   "source": [
    "#price_df = get_feature_group_as_dataframe(project.name, \"electricity_price_data\")\n",
    "weather_df = get_feature_group_as_dataframe(project.name, \"weather_data_3\")\n",
    "entsoe_df = get_feature_group_as_dataframe(project.name, \"entsoe_data_3\")"
   ]
  },
  {
   "cell_type": "code",
   "execution_count": 9,
   "metadata": {},
   "outputs": [
    {
     "name": "stdout",
     "output_type": "stream",
     "text": [
      "Index(['load_se3', 'load_finland', 'load_norway', 'load_denmark', 'prices',\n",
      "       'total_generation_biomass', 'total_generation_fossil_gas',\n",
      "       'total_generation_fossil_hard_coal', 'total_generation_fossil_oil',\n",
      "       'total_generation_hydro_run_of_river_and_poundage',\n",
      "       'total_generation_other_renewable', 'total_generation_solar',\n",
      "       'total_generation_waste', 'total_generation_wind_offshore',\n",
      "       'total_generation_wind_onshore', 'flows_se3_to_finland',\n",
      "       'flows_finland_to_se3', 'flows_se3_to_norway', 'flows_norway_to_se3',\n",
      "       'flows_se3_to_denmark', 'flows_denmark_to_se3', 'date'],\n",
      "      dtype='object')\n"
     ]
    }
   ],
   "source": [
    "print(entsoe_df.columns)\n",
    "entsoe_df = entsoe_df.sort_values(by='date')\n",
    "weather_df = weather_df.sort_values(by='date')"
   ]
  },
  {
   "cell_type": "code",
   "execution_count": 10,
   "metadata": {},
   "outputs": [
    {
     "name": "stdout",
     "output_type": "stream",
     "text": [
      "4857   2024-12-31 23:00:00+00:00\n",
      "Name: date, dtype: datetime64[us, Etc/UTC]\n",
      "11502   2025-01-05 23:00:00+00:00\n",
      "Name: date, dtype: datetime64[us, Etc/UTC]\n"
     ]
    }
   ],
   "source": [
    "print(weather_df['date'].tail(1))\n",
    "print(entsoe_df['date'].tail(1))"
   ]
  },
  {
   "cell_type": "code",
   "execution_count": 8,
   "metadata": {},
   "outputs": [],
   "source": [
    "# weather_df = weather_df.sort_values(by='date')\n",
    "# entsoe_df = entsoe_df.sort_values(by='date')\n",
    "\n",
    "entsoe_df['date'] = pd.to_datetime(entsoe_df['date']).dt.tz_convert(None)\n",
    "weather_df['date'] = pd.to_datetime(weather_df['date']).dt.tz_convert(None)"
   ]
  },
  {
   "cell_type": "code",
   "execution_count": 9,
   "metadata": {},
   "outputs": [],
   "source": [
    "weather_df = weather_df.sort_values(by='date')\n",
    "entsoe_df = entsoe_df.sort_values(by='date')"
   ]
  },
  {
   "cell_type": "code",
   "execution_count": 11,
   "metadata": {},
   "outputs": [
    {
     "name": "stdout",
     "output_type": "stream",
     "text": [
      "2024-12-31 23:00:00+00:00\n",
      "2025-01-05 23:00:00+00:00\n"
     ]
    }
   ],
   "source": [
    "print(weather_df['date'].max())\n",
    "print(entsoe_df['date'].max())"
   ]
  },
  {
   "cell_type": "code",
   "execution_count": 11,
   "metadata": {},
   "outputs": [
    {
     "name": "stdout",
     "output_type": "stream",
     "text": [
      "15443   2024-12-30 23:00:00\n",
      "Name: date, dtype: datetime64[us]\n",
      "18403   2025-01-04 23:00:00\n",
      "Name: date, dtype: datetime64[us]\n"
     ]
    }
   ],
   "source": [
    "print(weather_df['date'].tail(1))\n",
    "print(entsoe_df['date'].tail(1))"
   ]
  },
  {
   "cell_type": "code",
   "execution_count": 12,
   "metadata": {},
   "outputs": [
    {
     "name": "stdout",
     "output_type": "stream",
     "text": [
      "Index(['date', 'temperature_2m', 'precipitation', 'snow_depth', 'pressure_msl',\n",
      "       'cloud_cover', 'wind_speed_10m', 'wind_speed_100m',\n",
      "       'wind_direction_10m', 'wind_direction_100m', 'city', 'load_se3',\n",
      "       'load_finland', 'load_norway', 'load_denmark', 'prices',\n",
      "       'total_generation_biomass', 'total_generation_fossil_gas',\n",
      "       'total_generation_fossil_hard_coal', 'total_generation_fossil_oil',\n",
      "       'total_generation_hydro_run_of_river_and_poundage',\n",
      "       'total_generation_other_renewable', 'total_generation_solar',\n",
      "       'total_generation_waste', 'total_generation_wind_offshore',\n",
      "       'total_generation_wind_onshore', 'flows_se3_to_finland',\n",
      "       'flows_finland_to_se3', 'flows_se3_to_norway', 'flows_norway_to_se3',\n",
      "       'flows_se3_to_denmark', 'flows_denmark_to_se3'],\n",
      "      dtype='object')\n"
     ]
    }
   ],
   "source": [
    "merged_df = pd.merge(weather_df, entsoe_df, on='date', how='inner')\n",
    "# merged_df = merged_df.sort_values(by='date')\n",
    "\n",
    "print(merged_df.columns)\n"
   ]
  },
  {
   "cell_type": "code",
   "execution_count": 13,
   "metadata": {},
   "outputs": [
    {
     "name": "stdout",
     "output_type": "stream",
     "text": [
      "Index(['date', 'temperature_2m', 'precipitation', 'snow_depth', 'pressure_msl',\n",
      "       'cloud_cover', 'wind_speed_10m', 'wind_speed_100m',\n",
      "       'wind_direction_10m', 'wind_direction_100m', 'city', 'load_se3',\n",
      "       'load_finland', 'load_norway', 'load_denmark', 'prices',\n",
      "       'total_generation_biomass', 'total_generation_fossil_gas',\n",
      "       'total_generation_fossil_hard_coal', 'total_generation_fossil_oil',\n",
      "       'total_generation_hydro_run_of_river_and_poundage',\n",
      "       'total_generation_other_renewable', 'total_generation_solar',\n",
      "       'total_generation_waste', 'total_generation_wind_offshore',\n",
      "       'total_generation_wind_onshore', 'flows_se3_to_finland',\n",
      "       'flows_finland_to_se3', 'flows_se3_to_norway', 'flows_norway_to_se3',\n",
      "       'flows_se3_to_denmark', 'flows_denmark_to_se3'],\n",
      "      dtype='object')\n"
     ]
    }
   ],
   "source": [
    "print(merged_df.columns)"
   ]
  },
  {
   "cell_type": "code",
   "execution_count": 14,
   "metadata": {},
   "outputs": [],
   "source": [
    "merged_df = merged_df.drop(columns=['wind_speed_10m', 'pressure_msl', 'cloud_cover', 'city', 'snow_depth', 'wind_direction_10m', 'wind_direction_100m'])"
   ]
  },
  {
   "cell_type": "code",
   "execution_count": 15,
   "metadata": {},
   "outputs": [
    {
     "name": "stdout",
     "output_type": "stream",
     "text": [
      "Index(['date', 'temperature_2m', 'precipitation', 'wind_speed_100m',\n",
      "       'load_se3', 'load_finland', 'load_norway', 'load_denmark', 'prices',\n",
      "       'total_generation_biomass', 'total_generation_fossil_gas',\n",
      "       'total_generation_fossil_hard_coal', 'total_generation_fossil_oil',\n",
      "       'total_generation_hydro_run_of_river_and_poundage',\n",
      "       'total_generation_other_renewable', 'total_generation_solar',\n",
      "       'total_generation_waste', 'total_generation_wind_offshore',\n",
      "       'total_generation_wind_onshore', 'flows_se3_to_finland',\n",
      "       'flows_finland_to_se3', 'flows_se3_to_norway', 'flows_norway_to_se3',\n",
      "       'flows_se3_to_denmark', 'flows_denmark_to_se3'],\n",
      "      dtype='object')\n"
     ]
    }
   ],
   "source": [
    "print(merged_df.columns)"
   ]
  },
  {
   "cell_type": "code",
   "execution_count": 16,
   "metadata": {},
   "outputs": [],
   "source": [
    "merged_df['total_generation_se'] = merged_df[\n",
    "    [\n",
    "        'total_generation_biomass', 'total_generation_fossil_gas',\n",
    "        'total_generation_fossil_hard_coal', 'total_generation_fossil_oil',\n",
    "        'total_generation_hydro_run_of_river_and_poundage',\n",
    "        'total_generation_other_renewable', 'total_generation_solar',\n",
    "        'total_generation_waste', 'total_generation_wind_offshore',\n",
    "        'total_generation_wind_onshore'\n",
    "    ]\n",
    "].sum(axis=1)\n",
    "\n",
    "merged_df = merged_df.drop(columns=    [\n",
    "        'total_generation_biomass', 'total_generation_fossil_gas',\n",
    "        'total_generation_fossil_hard_coal', 'total_generation_fossil_oil',\n",
    "        'total_generation_hydro_run_of_river_and_poundage',\n",
    "        'total_generation_other_renewable', 'total_generation_solar',\n",
    "        'total_generation_waste', 'total_generation_wind_offshore',\n",
    "        'total_generation_wind_onshore'\n",
    "    ])\n"
   ]
  },
  {
   "cell_type": "code",
   "execution_count": 17,
   "metadata": {},
   "outputs": [
    {
     "name": "stdout",
     "output_type": "stream",
     "text": [
      "Index(['date', 'temperature_2m', 'precipitation', 'wind_speed_100m',\n",
      "       'load_se3', 'load_finland', 'load_norway', 'load_denmark', 'prices',\n",
      "       'flows_se3_to_finland', 'flows_finland_to_se3', 'flows_se3_to_norway',\n",
      "       'flows_norway_to_se3', 'flows_se3_to_denmark', 'flows_denmark_to_se3',\n",
      "       'total_generation_se'],\n",
      "      dtype='object')\n"
     ]
    }
   ],
   "source": [
    "print(merged_df.columns)"
   ]
  },
  {
   "cell_type": "code",
   "execution_count": 18,
   "metadata": {},
   "outputs": [],
   "source": [
    "merged_df['total_load_abroad'] = merged_df[['load_finland', 'load_norway', 'load_denmark']].sum(axis=1)\n",
    "merged_df = merged_df.drop(columns=['load_finland', 'load_norway', 'load_denmark'])"
   ]
  },
  {
   "cell_type": "code",
   "execution_count": 19,
   "metadata": {},
   "outputs": [
    {
     "name": "stdout",
     "output_type": "stream",
     "text": [
      "Index(['date', 'temperature_2m', 'precipitation', 'wind_speed_100m',\n",
      "       'load_se3', 'prices', 'flows_se3_to_finland', 'flows_finland_to_se3',\n",
      "       'flows_se3_to_norway', 'flows_norway_to_se3', 'flows_se3_to_denmark',\n",
      "       'flows_denmark_to_se3', 'total_generation_se', 'total_load_abroad'],\n",
      "      dtype='object')\n"
     ]
    }
   ],
   "source": [
    "print(merged_df.columns)"
   ]
  },
  {
   "cell_type": "code",
   "execution_count": 20,
   "metadata": {},
   "outputs": [],
   "source": [
    "columns_to_merge = [\n",
    "    'flows_se3_to_finland', 'flows_finland_to_se3',\n",
    "    'flows_se3_to_norway', 'flows_norway_to_se3',\n",
    "    'flows_se3_to_denmark', 'flows_denmark_to_se3'\n",
    "]\n",
    "\n",
    "merged_df['imported_energy'] = merged_df.apply(\n",
    "    lambda row: sum(-row[col] if 'se3_to' in col else row[col] for col in columns_to_merge),\n",
    "    axis=1\n",
    ")\n",
    "\n",
    "merged_df = merged_df.drop(columns=columns_to_merge)"
   ]
  },
  {
   "cell_type": "code",
   "execution_count": 21,
   "metadata": {},
   "outputs": [
    {
     "name": "stdout",
     "output_type": "stream",
     "text": [
      "Index(['date', 'temperature_2m', 'precipitation', 'wind_speed_100m',\n",
      "       'load_se3', 'prices', 'total_generation_se', 'total_load_abroad',\n",
      "       'imported_energy'],\n",
      "      dtype='object')\n"
     ]
    }
   ],
   "source": [
    "print(merged_df.columns)"
   ]
  },
  {
   "cell_type": "code",
   "execution_count": 23,
   "metadata": {},
   "outputs": [
    {
     "name": "stdout",
     "output_type": "stream",
     "text": [
      "Index(['date', 'temperature_2m', 'precipitation', 'wind_speed_100m',\n",
      "       'load_se3', 'prices', 'total_generation_se', 'total_load_abroad',\n",
      "       'imported_energy'],\n",
      "      dtype='object')\n"
     ]
    }
   ],
   "source": [
    "print(merged_df.columns)"
   ]
  },
  {
   "cell_type": "code",
   "execution_count": 24,
   "metadata": {},
   "outputs": [
    {
     "name": "stdout",
     "output_type": "stream",
     "text": [
      "                     date  temperature_2m  precipitation  wind_speed_100m  \\\n",
      "18474 2024-12-30 23:00:00          -1.785            0.0        20.438522   \n",
      "\n",
      "       load_se3  prices  total_generation_se  total_load_abroad  \\\n",
      "18474   10482.0   35.66               2738.0           18020.75   \n",
      "\n",
      "       imported_energy  \n",
      "18474          -1473.0  \n"
     ]
    }
   ],
   "source": [
    "print(merged_df.tail(1))"
   ]
  },
  {
   "cell_type": "code",
   "execution_count": 11,
   "metadata": {},
   "outputs": [],
   "source": [
    "# price_fg = fs.get_feature_group(\n",
    "#     name='electricity_price_data_3',\n",
    "#     version=1,\n",
    "# )\n",
    "weather_fg = fs.get_feature_group(\n",
    "    name='weather_data_3',\n",
    "    version=1,\n",
    ")\n",
    "\n",
    "entsoe_fg = fs.get_feature_group(\n",
    "    name='entsoe_data_3',\n",
    "    version=1,\n",
    ")"
   ]
  },
  {
   "cell_type": "code",
   "execution_count": 66,
   "metadata": {},
   "outputs": [
    {
     "name": "stdout",
     "output_type": "stream",
     "text": [
      "Finished: Reading data from Hopsworks, using Hopsworks Feature Query Service (2.59s) \n",
      "Finished: Reading data from Hopsworks, using Hopsworks Feature Query Service (0.75s) \n"
     ]
    }
   ],
   "source": [
    "df_e = entsoe_fg.read()\n",
    "df_w = weather_fg.read()"
   ]
  },
  {
   "cell_type": "code",
   "execution_count": 67,
   "metadata": {},
   "outputs": [
    {
     "name": "stdout",
     "output_type": "stream",
     "text": [
      "0\n"
     ]
    }
   ],
   "source": [
    "m = pd.merge(df_w, df_e, on='date', how='inner')\n",
    "print(m['date'].isna().sum())"
   ]
  },
  {
   "cell_type": "code",
   "execution_count": 14,
   "metadata": {},
   "outputs": [
    {
     "name": "stdout",
     "output_type": "stream",
     "text": [
      "Dates are the same type\n"
     ]
    }
   ],
   "source": [
    "if type(df_e['date'].iloc[-1]) == type(df_w['date'].iloc[-1]):\n",
    "    print(\"Dates are the same type\")"
   ]
  },
  {
   "cell_type": "code",
   "execution_count": 15,
   "metadata": {},
   "outputs": [
    {
     "name": "stdout",
     "output_type": "stream",
     "text": [
      "19122   2023-03-11 22:00:00+00:00\n",
      "Name: date, dtype: datetime64[us, Etc/UTC]\n"
     ]
    }
   ],
   "source": [
    "\n",
    "print(df_e['date'].tail(1))"
   ]
  },
  {
   "cell_type": "code",
   "execution_count": 16,
   "metadata": {},
   "outputs": [
    {
     "name": "stdout",
     "output_type": "stream",
     "text": [
      "date                   datetime64[us, Etc/UTC]\n",
      "temperature_2m                         float32\n",
      "precipitation                          float32\n",
      "snow_depth                             float32\n",
      "pressure_msl                           float32\n",
      "cloud_cover                            float32\n",
      "wind_speed_10m                         float32\n",
      "wind_speed_100m                        float32\n",
      "wind_direction_10m                     float32\n",
      "wind_direction_100m                    float32\n",
      "city                                    object\n",
      "dtype: object\n",
      "18503   2023-03-11 22:00:00+00:00\n",
      "Name: date, dtype: datetime64[us, Etc/UTC]\n"
     ]
    }
   ],
   "source": [
    "print(df_w.dtypes)\n",
    "print(df_w['date'].tail(1))"
   ]
  },
  {
   "cell_type": "code",
   "execution_count": 28,
   "metadata": {},
   "outputs": [
    {
     "name": "stdout",
     "output_type": "stream",
     "text": [
      "18647   2025-01-11 12:00:00\n",
      "Name: date, dtype: datetime64[us]\n",
      "19117   2025-01-05 04:00:00\n",
      "Name: date, dtype: datetime64[us]\n"
     ]
    }
   ],
   "source": [
    "df_e['date'] = pd.to_datetime(df_e['date']).dt.tz_localize(None)\n",
    "df_w['date'] = pd.to_datetime(df_w['date']).dt.tz_localize(None)\n",
    "\n",
    "print(df_w['date'].tail(1))\n",
    "\n",
    "print(df_e['date'].tail(1))"
   ]
  },
  {
   "cell_type": "code",
   "execution_count": 12,
   "metadata": {},
   "outputs": [
    {
     "name": "stdout",
     "output_type": "stream",
     "text": [
      "Finished: Reading data from Hopsworks, using Hopsworks Feature Query Service (3.42s) \n"
     ]
    },
    {
     "data": {
      "text/html": [
       "<div>\n",
       "<style scoped>\n",
       "    .dataframe tbody tr th:only-of-type {\n",
       "        vertical-align: middle;\n",
       "    }\n",
       "\n",
       "    .dataframe tbody tr th {\n",
       "        vertical-align: top;\n",
       "    }\n",
       "\n",
       "    .dataframe thead th {\n",
       "        text-align: right;\n",
       "    }\n",
       "</style>\n",
       "<table border=\"1\" class=\"dataframe\">\n",
       "  <thead>\n",
       "    <tr style=\"text-align: right;\">\n",
       "      <th></th>\n",
       "      <th>load_se3</th>\n",
       "      <th>load_finland</th>\n",
       "      <th>load_norway</th>\n",
       "      <th>load_denmark</th>\n",
       "      <th>prices</th>\n",
       "      <th>total_generation_biomass</th>\n",
       "      <th>total_generation_fossil_gas</th>\n",
       "      <th>total_generation_fossil_hard_coal</th>\n",
       "      <th>total_generation_fossil_oil</th>\n",
       "      <th>total_generation_hydro_run_of_river_and_poundage</th>\n",
       "      <th>...</th>\n",
       "      <th>temperature_2m</th>\n",
       "      <th>precipitation</th>\n",
       "      <th>snow_depth</th>\n",
       "      <th>pressure_msl</th>\n",
       "      <th>cloud_cover</th>\n",
       "      <th>wind_speed_10m</th>\n",
       "      <th>wind_speed_100m</th>\n",
       "      <th>wind_direction_10m</th>\n",
       "      <th>wind_direction_100m</th>\n",
       "      <th>city</th>\n",
       "    </tr>\n",
       "  </thead>\n",
       "  <tbody>\n",
       "    <tr>\n",
       "      <th>0</th>\n",
       "      <td>7471.0</td>\n",
       "      <td>8027.0</td>\n",
       "      <td>2865.0</td>\n",
       "      <td>2000.0</td>\n",
       "      <td>37.00</td>\n",
       "      <td>166.0</td>\n",
       "      <td>115.0</td>\n",
       "      <td>37.0</td>\n",
       "      <td>7.0</td>\n",
       "      <td>1.0</td>\n",
       "      <td>...</td>\n",
       "      <td>8.565000</td>\n",
       "      <td>0.0</td>\n",
       "      <td>0.0</td>\n",
       "      <td>1017.099976</td>\n",
       "      <td>100.0</td>\n",
       "      <td>8.759178</td>\n",
       "      <td>17.283749</td>\n",
       "      <td>260.537750</td>\n",
       "      <td>268.806549</td>\n",
       "      <td>Stockhom</td>\n",
       "    </tr>\n",
       "    <tr>\n",
       "      <th>1</th>\n",
       "      <td>9563.0</td>\n",
       "      <td>9191.0</td>\n",
       "      <td>3937.0</td>\n",
       "      <td>2716.0</td>\n",
       "      <td>77.99</td>\n",
       "      <td>176.0</td>\n",
       "      <td>114.0</td>\n",
       "      <td>39.0</td>\n",
       "      <td>7.0</td>\n",
       "      <td>1.0</td>\n",
       "      <td>...</td>\n",
       "      <td>8.264999</td>\n",
       "      <td>0.0</td>\n",
       "      <td>0.0</td>\n",
       "      <td>1017.099976</td>\n",
       "      <td>100.0</td>\n",
       "      <td>9.255571</td>\n",
       "      <td>16.516901</td>\n",
       "      <td>283.495758</td>\n",
       "      <td>286.460083</td>\n",
       "      <td>Stockhom</td>\n",
       "    </tr>\n",
       "    <tr>\n",
       "      <th>2</th>\n",
       "      <td>9782.0</td>\n",
       "      <td>9532.0</td>\n",
       "      <td>3882.0</td>\n",
       "      <td>2827.0</td>\n",
       "      <td>91.30</td>\n",
       "      <td>126.0</td>\n",
       "      <td>138.0</td>\n",
       "      <td>323.0</td>\n",
       "      <td>9.0</td>\n",
       "      <td>1.0</td>\n",
       "      <td>...</td>\n",
       "      <td>9.365000</td>\n",
       "      <td>0.0</td>\n",
       "      <td>0.0</td>\n",
       "      <td>1010.900024</td>\n",
       "      <td>100.0</td>\n",
       "      <td>11.367109</td>\n",
       "      <td>22.682856</td>\n",
       "      <td>169.045975</td>\n",
       "      <td>180.909363</td>\n",
       "      <td>Stockhom</td>\n",
       "    </tr>\n",
       "    <tr>\n",
       "      <th>3</th>\n",
       "      <td>7604.0</td>\n",
       "      <td>7973.0</td>\n",
       "      <td>3016.0</td>\n",
       "      <td>2174.0</td>\n",
       "      <td>40.21</td>\n",
       "      <td>115.0</td>\n",
       "      <td>89.0</td>\n",
       "      <td>106.0</td>\n",
       "      <td>8.0</td>\n",
       "      <td>1.0</td>\n",
       "      <td>...</td>\n",
       "      <td>6.115000</td>\n",
       "      <td>0.0</td>\n",
       "      <td>0.0</td>\n",
       "      <td>1013.099976</td>\n",
       "      <td>85.0</td>\n",
       "      <td>10.587918</td>\n",
       "      <td>21.933426</td>\n",
       "      <td>234.688705</td>\n",
       "      <td>246.801376</td>\n",
       "      <td>Stockhom</td>\n",
       "    </tr>\n",
       "    <tr>\n",
       "      <th>4</th>\n",
       "      <td>9011.0</td>\n",
       "      <td>9229.0</td>\n",
       "      <td>3549.0</td>\n",
       "      <td>2623.0</td>\n",
       "      <td>76.00</td>\n",
       "      <td>129.0</td>\n",
       "      <td>132.0</td>\n",
       "      <td>113.0</td>\n",
       "      <td>9.0</td>\n",
       "      <td>1.0</td>\n",
       "      <td>...</td>\n",
       "      <td>7.465000</td>\n",
       "      <td>0.0</td>\n",
       "      <td>0.0</td>\n",
       "      <td>1013.799988</td>\n",
       "      <td>100.0</td>\n",
       "      <td>7.771331</td>\n",
       "      <td>15.021105</td>\n",
       "      <td>193.392517</td>\n",
       "      <td>224.029068</td>\n",
       "      <td>Stockhom</td>\n",
       "    </tr>\n",
       "    <tr>\n",
       "      <th>5</th>\n",
       "      <td>9445.0</td>\n",
       "      <td>9620.0</td>\n",
       "      <td>3950.0</td>\n",
       "      <td>2908.0</td>\n",
       "      <td>100.02</td>\n",
       "      <td>123.0</td>\n",
       "      <td>134.0</td>\n",
       "      <td>156.0</td>\n",
       "      <td>14.0</td>\n",
       "      <td>1.0</td>\n",
       "      <td>...</td>\n",
       "      <td>8.115000</td>\n",
       "      <td>0.0</td>\n",
       "      <td>0.0</td>\n",
       "      <td>1012.799988</td>\n",
       "      <td>100.0</td>\n",
       "      <td>14.882420</td>\n",
       "      <td>29.142216</td>\n",
       "      <td>147.847733</td>\n",
       "      <td>152.801956</td>\n",
       "      <td>Stockhom</td>\n",
       "    </tr>\n",
       "    <tr>\n",
       "      <th>6</th>\n",
       "      <td>9919.0</td>\n",
       "      <td>9701.0</td>\n",
       "      <td>4099.0</td>\n",
       "      <td>2762.0</td>\n",
       "      <td>240.55</td>\n",
       "      <td>156.0</td>\n",
       "      <td>263.0</td>\n",
       "      <td>252.0</td>\n",
       "      <td>14.0</td>\n",
       "      <td>1.0</td>\n",
       "      <td>...</td>\n",
       "      <td>8.065000</td>\n",
       "      <td>0.0</td>\n",
       "      <td>0.0</td>\n",
       "      <td>1012.700012</td>\n",
       "      <td>100.0</td>\n",
       "      <td>18.089775</td>\n",
       "      <td>32.839027</td>\n",
       "      <td>132.580460</td>\n",
       "      <td>135.444092</td>\n",
       "      <td>Stockhom</td>\n",
       "    </tr>\n",
       "    <tr>\n",
       "      <th>7</th>\n",
       "      <td>7970.0</td>\n",
       "      <td>8687.0</td>\n",
       "      <td>3137.0</td>\n",
       "      <td>2102.0</td>\n",
       "      <td>129.04</td>\n",
       "      <td>213.0</td>\n",
       "      <td>197.0</td>\n",
       "      <td>71.0</td>\n",
       "      <td>14.0</td>\n",
       "      <td>1.0</td>\n",
       "      <td>...</td>\n",
       "      <td>8.415000</td>\n",
       "      <td>0.0</td>\n",
       "      <td>0.0</td>\n",
       "      <td>1010.799988</td>\n",
       "      <td>100.0</td>\n",
       "      <td>17.102840</td>\n",
       "      <td>29.964457</td>\n",
       "      <td>139.267990</td>\n",
       "      <td>144.782318</td>\n",
       "      <td>Stockhom</td>\n",
       "    </tr>\n",
       "    <tr>\n",
       "      <th>8</th>\n",
       "      <td>9083.0</td>\n",
       "      <td>9102.0</td>\n",
       "      <td>3674.0</td>\n",
       "      <td>2210.0</td>\n",
       "      <td>114.45</td>\n",
       "      <td>259.0</td>\n",
       "      <td>214.0</td>\n",
       "      <td>84.0</td>\n",
       "      <td>16.0</td>\n",
       "      <td>1.0</td>\n",
       "      <td>...</td>\n",
       "      <td>7.365000</td>\n",
       "      <td>1.5</td>\n",
       "      <td>0.0</td>\n",
       "      <td>1009.500000</td>\n",
       "      <td>100.0</td>\n",
       "      <td>15.815435</td>\n",
       "      <td>29.379175</td>\n",
       "      <td>138.691483</td>\n",
       "      <td>143.972534</td>\n",
       "      <td>Stockhom</td>\n",
       "    </tr>\n",
       "    <tr>\n",
       "      <th>9</th>\n",
       "      <td>8934.0</td>\n",
       "      <td>9134.0</td>\n",
       "      <td>3623.0</td>\n",
       "      <td>2137.0</td>\n",
       "      <td>88.72</td>\n",
       "      <td>261.0</td>\n",
       "      <td>157.0</td>\n",
       "      <td>59.0</td>\n",
       "      <td>11.0</td>\n",
       "      <td>1.0</td>\n",
       "      <td>...</td>\n",
       "      <td>7.415000</td>\n",
       "      <td>0.5</td>\n",
       "      <td>0.0</td>\n",
       "      <td>1008.500000</td>\n",
       "      <td>100.0</td>\n",
       "      <td>15.349684</td>\n",
       "      <td>28.555965</td>\n",
       "      <td>140.710602</td>\n",
       "      <td>146.309906</td>\n",
       "      <td>Stockhom</td>\n",
       "    </tr>\n",
       "  </tbody>\n",
       "</table>\n",
       "<p>10 rows × 32 columns</p>\n",
       "</div>"
      ],
      "text/plain": [
       "   load_se3  load_finland  load_norway  load_denmark  prices  \\\n",
       "0    7471.0        8027.0       2865.0        2000.0   37.00   \n",
       "1    9563.0        9191.0       3937.0        2716.0   77.99   \n",
       "2    9782.0        9532.0       3882.0        2827.0   91.30   \n",
       "3    7604.0        7973.0       3016.0        2174.0   40.21   \n",
       "4    9011.0        9229.0       3549.0        2623.0   76.00   \n",
       "5    9445.0        9620.0       3950.0        2908.0  100.02   \n",
       "6    9919.0        9701.0       4099.0        2762.0  240.55   \n",
       "7    7970.0        8687.0       3137.0        2102.0  129.04   \n",
       "8    9083.0        9102.0       3674.0        2210.0  114.45   \n",
       "9    8934.0        9134.0       3623.0        2137.0   88.72   \n",
       "\n",
       "   total_generation_biomass  total_generation_fossil_gas  \\\n",
       "0                     166.0                        115.0   \n",
       "1                     176.0                        114.0   \n",
       "2                     126.0                        138.0   \n",
       "3                     115.0                         89.0   \n",
       "4                     129.0                        132.0   \n",
       "5                     123.0                        134.0   \n",
       "6                     156.0                        263.0   \n",
       "7                     213.0                        197.0   \n",
       "8                     259.0                        214.0   \n",
       "9                     261.0                        157.0   \n",
       "\n",
       "   total_generation_fossil_hard_coal  total_generation_fossil_oil  \\\n",
       "0                               37.0                          7.0   \n",
       "1                               39.0                          7.0   \n",
       "2                              323.0                          9.0   \n",
       "3                              106.0                          8.0   \n",
       "4                              113.0                          9.0   \n",
       "5                              156.0                         14.0   \n",
       "6                              252.0                         14.0   \n",
       "7                               71.0                         14.0   \n",
       "8                               84.0                         16.0   \n",
       "9                               59.0                         11.0   \n",
       "\n",
       "   total_generation_hydro_run_of_river_and_poundage  ...  temperature_2m  \\\n",
       "0                                               1.0  ...        8.565000   \n",
       "1                                               1.0  ...        8.264999   \n",
       "2                                               1.0  ...        9.365000   \n",
       "3                                               1.0  ...        6.115000   \n",
       "4                                               1.0  ...        7.465000   \n",
       "5                                               1.0  ...        8.115000   \n",
       "6                                               1.0  ...        8.065000   \n",
       "7                                               1.0  ...        8.415000   \n",
       "8                                               1.0  ...        7.365000   \n",
       "9                                               1.0  ...        7.415000   \n",
       "\n",
       "   precipitation  snow_depth  pressure_msl  cloud_cover  wind_speed_10m  \\\n",
       "0            0.0         0.0   1017.099976        100.0        8.759178   \n",
       "1            0.0         0.0   1017.099976        100.0        9.255571   \n",
       "2            0.0         0.0   1010.900024        100.0       11.367109   \n",
       "3            0.0         0.0   1013.099976         85.0       10.587918   \n",
       "4            0.0         0.0   1013.799988        100.0        7.771331   \n",
       "5            0.0         0.0   1012.799988        100.0       14.882420   \n",
       "6            0.0         0.0   1012.700012        100.0       18.089775   \n",
       "7            0.0         0.0   1010.799988        100.0       17.102840   \n",
       "8            1.5         0.0   1009.500000        100.0       15.815435   \n",
       "9            0.5         0.0   1008.500000        100.0       15.349684   \n",
       "\n",
       "   wind_speed_100m  wind_direction_10m  wind_direction_100m      city  \n",
       "0        17.283749          260.537750           268.806549  Stockhom  \n",
       "1        16.516901          283.495758           286.460083  Stockhom  \n",
       "2        22.682856          169.045975           180.909363  Stockhom  \n",
       "3        21.933426          234.688705           246.801376  Stockhom  \n",
       "4        15.021105          193.392517           224.029068  Stockhom  \n",
       "5        29.142216          147.847733           152.801956  Stockhom  \n",
       "6        32.839027          132.580460           135.444092  Stockhom  \n",
       "7        29.964457          139.267990           144.782318  Stockhom  \n",
       "8        29.379175          138.691483           143.972534  Stockhom  \n",
       "9        28.555965          140.710602           146.309906  Stockhom  \n",
       "\n",
       "[10 rows x 32 columns]"
      ]
     },
     "execution_count": 12,
     "metadata": {},
     "output_type": "execute_result"
    }
   ],
   "source": [
    "\n",
    "\n",
    "\n",
    "# Define the columns to be selected\n",
    "columns = [\n",
    "    'load_se3', 'load_finland', 'load_norway', 'load_denmark', 'prices',\n",
    "    'total_generation_biomass', 'total_generation_fossil_gas',\n",
    "    'total_generation_fossil_hard_coal', 'total_generation_fossil_oil',\n",
    "    'total_generation_hydro_run_of_river_and_poundage',\n",
    "    'total_generation_other_renewable', 'total_generation_solar',\n",
    "    'total_generation_waste', 'total_generation_wind_offshore',\n",
    "    'total_generation_wind_onshore', 'flows_se3_to_finland',\n",
    "    'flows_finland_to_se3', 'flows_se3_to_norway', 'flows_norway_to_se3',\n",
    "    'flows_se3_to_denmark', 'flows_denmark_to_se3'\n",
    "]\n",
    "\n",
    "# Select the specified columns from entsoe_fg and join with all columns from weather_fg\n",
    "#entsoe_query = entsoe_fg.select(columns)\n",
    "#weather_query = weather_fg.select_all()\n",
    "selected_features = entsoe_fg.select(columns).join(weather_fg.select_all(), on=['date'], join_type='inner')\n",
    "#selected_features = entsoe_query.join(weather_query, on=['date'])\n",
    "\n",
    "\n",
    "\n",
    "# Show the first 10 rows of the feature view to verify\n",
    "selected_features.show(10)"
   ]
  },
  {
   "cell_type": "code",
   "execution_count": 27,
   "metadata": {},
   "outputs": [],
   "source": [
    "\n",
    "# selected_features = entsoe_fg.select(['prices']).join(weather_fg.select_all(), on=['date'])\n",
    "# selected_features.show(10)"
   ]
  },
  {
   "cell_type": "code",
   "execution_count": 13,
   "metadata": {},
   "outputs": [
    {
     "name": "stdout",
     "output_type": "stream",
     "text": [
      "Feature view created successfully, explore it at \n",
      "https://c.app.hopsworks.ai:443/p/1164446/fs/1155149/fv/electricity_price_fv_3/version/1\n"
     ]
    }
   ],
   "source": [
    "feature_view = fs.get_or_create_feature_view(\n",
    "    name='electricity_price_fv_3',\n",
    "    description=\"weather + entose features with electricity prices as the target\",\n",
    "    version=1,\n",
    "    labels=['prices'],\n",
    "    query=selected_features,\n",
    ")"
   ]
  },
  {
   "cell_type": "code",
   "execution_count": 8,
   "metadata": {},
   "outputs": [
    {
     "name": "stdout",
     "output_type": "stream",
     "text": [
      "Finished: Reading data from Hopsworks, using Hopsworks Feature Query Service (3.73s) \n",
      "load_se3                                            0\n",
      "load_finland                                        0\n",
      "load_norway                                         0\n",
      "load_denmark                                        0\n",
      "total_generation_biomass                            0\n",
      "total_generation_fossil_gas                         0\n",
      "total_generation_fossil_hard_coal                   0\n",
      "total_generation_fossil_oil                         0\n",
      "total_generation_hydro_run_of_river_and_poundage    0\n",
      "total_generation_other_renewable                    0\n",
      "total_generation_solar                              0\n",
      "total_generation_waste                              0\n",
      "total_generation_wind_offshore                      0\n",
      "total_generation_wind_onshore                       0\n",
      "flows_se3_to_finland                                0\n",
      "flows_finland_to_se3                                0\n",
      "flows_se3_to_norway                                 0\n",
      "flows_norway_to_se3                                 0\n",
      "flows_se3_to_denmark                                0\n",
      "flows_denmark_to_se3                                0\n",
      "date                                                0\n",
      "temperature_2m                                      0\n",
      "precipitation                                       0\n",
      "snow_depth                                          0\n",
      "pressure_msl                                        0\n",
      "cloud_cover                                         0\n",
      "wind_speed_10m                                      0\n",
      "wind_speed_100m                                     0\n",
      "wind_direction_10m                                  0\n",
      "wind_direction_100m                                 0\n",
      "city                                                0\n",
      "dtype: int64\n"
     ]
    }
   ],
   "source": [
    "feature_view_df = feature_view.get_batch_data()\n",
    "print(feature_view_df.isna().sum())\n",
    "#print(feature_view_df.columns)"
   ]
  },
  {
   "cell_type": "code",
   "execution_count": 14,
   "metadata": {},
   "outputs": [
    {
     "name": "stdout",
     "output_type": "stream",
     "text": [
      "Finished: Reading data from Hopsworks, using Hopsworks Feature Query Service (2.87s) \n",
      "2025-01-06 11:34:05,692 WARNING: VersionWarning: Incremented version to `1`.\n",
      "\n"
     ]
    }
   ],
   "source": [
    "X_train, X_test, y_train, y_test = feature_view.train_test_split(\n",
    "    test_size = 0.2\n",
    ")"
   ]
  },
  {
   "cell_type": "code",
   "execution_count": 23,
   "metadata": {},
   "outputs": [
    {
     "name": "stdout",
     "output_type": "stream",
     "text": [
      "<class 'pandas.core.frame.DataFrame'>\n",
      "<class 'pandas.core.frame.DataFrame'>\n",
      "<class 'pandas.core.frame.DataFrame'>\n",
      "<class 'pandas.core.frame.DataFrame'>\n"
     ]
    }
   ],
   "source": [
    "print(type(X_train))\n",
    "print(type(y_train))\n",
    "print(type(X_test))\n",
    "print(type(y_test))"
   ]
  },
  {
   "cell_type": "code",
   "execution_count": 15,
   "metadata": {},
   "outputs": [
    {
     "name": "stdout",
     "output_type": "stream",
     "text": [
      "Index(['load_se3', 'load_finland', 'load_norway', 'load_denmark',\n",
      "       'total_generation_biomass', 'total_generation_fossil_gas',\n",
      "       'total_generation_fossil_hard_coal', 'total_generation_fossil_oil',\n",
      "       'total_generation_hydro_run_of_river_and_poundage',\n",
      "       'total_generation_other_renewable', 'total_generation_solar',\n",
      "       'total_generation_waste', 'total_generation_wind_offshore',\n",
      "       'total_generation_wind_onshore', 'flows_se3_to_finland',\n",
      "       'flows_finland_to_se3', 'flows_se3_to_norway', 'flows_norway_to_se3',\n",
      "       'flows_se3_to_denmark', 'flows_denmark_to_se3', 'date',\n",
      "       'temperature_2m', 'precipitation', 'snow_depth', 'pressure_msl',\n",
      "       'cloud_cover', 'wind_speed_10m', 'wind_speed_100m',\n",
      "       'wind_direction_10m', 'wind_direction_100m', 'city'],\n",
      "      dtype='object')\n",
      "Index(['prices'], dtype='object')\n",
      "Index(['load_se3', 'load_finland', 'load_norway', 'load_denmark',\n",
      "       'total_generation_biomass', 'total_generation_fossil_gas',\n",
      "       'total_generation_fossil_hard_coal', 'total_generation_fossil_oil',\n",
      "       'total_generation_hydro_run_of_river_and_poundage',\n",
      "       'total_generation_other_renewable', 'total_generation_solar',\n",
      "       'total_generation_waste', 'total_generation_wind_offshore',\n",
      "       'total_generation_wind_onshore', 'flows_se3_to_finland',\n",
      "       'flows_finland_to_se3', 'flows_se3_to_norway', 'flows_norway_to_se3',\n",
      "       'flows_se3_to_denmark', 'flows_denmark_to_se3', 'date',\n",
      "       'temperature_2m', 'precipitation', 'snow_depth', 'pressure_msl',\n",
      "       'cloud_cover', 'wind_speed_10m', 'wind_speed_100m',\n",
      "       'wind_direction_10m', 'wind_direction_100m', 'city'],\n",
      "      dtype='object')\n",
      "Index(['prices'], dtype='object')\n"
     ]
    }
   ],
   "source": [
    "print(X_train.columns)\n",
    "print(y_train.columns)\n",
    "print(X_test.columns)\n",
    "print(y_test.columns)"
   ]
  },
  {
   "cell_type": "code",
   "execution_count": 16,
   "metadata": {},
   "outputs": [],
   "source": [
    "def modify_dataframe(df):\n",
    "    # Define the columns to be merged for imported_energy\n",
    "    columns_to_merge = [\n",
    "        'flows_se3_to_finland', 'flows_finland_to_se3',\n",
    "        'flows_se3_to_norway', 'flows_norway_to_se3',\n",
    "        'flows_se3_to_denmark', 'flows_denmark_to_se3'\n",
    "    ]\n",
    "\n",
    "    df['imported_energy'] = df.apply(\n",
    "        lambda row: sum(-row[col] if 'se3_to' in col else row[col] for col in columns_to_merge),\n",
    "        axis=1\n",
    "    )\n",
    "\n",
    "    df = df.drop(columns=columns_to_merge)\n",
    "\n",
    "    df['total_load'] = ( df['load_finland'] +\n",
    "        df['load_norway'] + df['load_denmark'] + df['load_se3']\n",
    "    )\n",
    "\n",
    "    df = df.drop(columns=['load_finland', 'load_norway', 'load_denmark', 'load_se3'])\n",
    "\n",
    "    columns_to_sum = [\n",
    "        'total_generation_biomass', 'total_generation_fossil_gas',\n",
    "        'total_generation_fossil_hard_coal', 'total_generation_fossil_oil',\n",
    "        'total_generation_hydro_run_of_river_and_poundage',\n",
    "        'total_generation_other_renewable', 'total_generation_solar',\n",
    "        'total_generation_waste', 'total_generation_wind_offshore',\n",
    "        'total_generation_wind_onshore'\n",
    "    ]\n",
    "\n",
    "    df['total_generation_se'] = df[columns_to_sum].sum(axis=1)\n",
    "    df = df.drop(columns=columns_to_sum)\n",
    "\n",
    "    return df"
   ]
  },
  {
   "cell_type": "code",
   "execution_count": 17,
   "metadata": {},
   "outputs": [],
   "source": [
    "X_train = modify_dataframe(X_train)\n",
    "X_test = modify_dataframe(X_test)\n"
   ]
  },
  {
   "cell_type": "code",
   "execution_count": 18,
   "metadata": {},
   "outputs": [
    {
     "name": "stdout",
     "output_type": "stream",
     "text": [
      "Index(['date', 'temperature_2m', 'precipitation', 'snow_depth', 'pressure_msl',\n",
      "       'cloud_cover', 'wind_speed_10m', 'wind_speed_100m',\n",
      "       'wind_direction_10m', 'wind_direction_100m', 'city', 'imported_energy',\n",
      "       'total_load', 'total_generation_se'],\n",
      "      dtype='object')\n"
     ]
    }
   ],
   "source": [
    "print(X_test.columns)"
   ]
  },
  {
   "cell_type": "code",
   "execution_count": 19,
   "metadata": {},
   "outputs": [
    {
     "name": "stdout",
     "output_type": "stream",
     "text": [
      "date                   0\n",
      "temperature_2m         0\n",
      "precipitation          0\n",
      "snow_depth             0\n",
      "pressure_msl           0\n",
      "cloud_cover            0\n",
      "wind_speed_10m         0\n",
      "wind_speed_100m        0\n",
      "wind_direction_10m     0\n",
      "wind_direction_100m    0\n",
      "city                   0\n",
      "imported_energy        0\n",
      "total_load             0\n",
      "total_generation_se    0\n",
      "dtype: int64\n",
      "date                   0\n",
      "temperature_2m         0\n",
      "precipitation          0\n",
      "snow_depth             0\n",
      "pressure_msl           0\n",
      "cloud_cover            0\n",
      "wind_speed_10m         0\n",
      "wind_speed_100m        0\n",
      "wind_direction_10m     0\n",
      "wind_direction_100m    0\n",
      "city                   0\n",
      "imported_energy        0\n",
      "total_load             0\n",
      "total_generation_se    0\n",
      "dtype: int64\n",
      "prices    0\n",
      "dtype: int64\n",
      "prices    0\n",
      "dtype: int64\n"
     ]
    }
   ],
   "source": [
    "print(X_train.isna().sum())\n",
    "print(X_test.isna().sum())\n",
    "print(y_train.isna().sum())\n",
    "print(y_test.isna().sum())"
   ]
  },
  {
   "cell_type": "code",
   "execution_count": 20,
   "metadata": {},
   "outputs": [],
   "source": [
    "train_features = X_train.drop(['snow_depth',\n",
    "       'pressure_msl', 'cloud_cover', 'wind_speed_10m',\n",
    "       'wind_direction_10m', 'wind_direction_100m', 'city', 'date'], axis=1)\n",
    "test_features = X_test.drop(['snow_depth',\n",
    "       'pressure_msl', 'cloud_cover', 'wind_speed_10m',\n",
    "       'wind_direction_10m', 'wind_direction_100m', 'city', 'date'], axis=1)"
   ]
  },
  {
   "cell_type": "code",
   "execution_count": 21,
   "metadata": {},
   "outputs": [
    {
     "name": "stdout",
     "output_type": "stream",
     "text": [
      "Index(['temperature_2m', 'precipitation', 'wind_speed_100m', 'imported_energy',\n",
      "       'total_load', 'total_generation_se'],\n",
      "      dtype='object')\n",
      "Index(['temperature_2m', 'precipitation', 'wind_speed_100m', 'imported_energy',\n",
      "       'total_load', 'total_generation_se'],\n",
      "      dtype='object')\n"
     ]
    }
   ],
   "source": [
    "print(train_features.columns)\n",
    "print(test_features.columns)"
   ]
  },
  {
   "cell_type": "code",
   "execution_count": null,
   "metadata": {},
   "outputs": [],
   "source": [
    "# merged_df = merged_df.drop(columns=['date', 'time_start', 'city'])"
   ]
  },
  {
   "cell_type": "code",
   "execution_count": 22,
   "metadata": {},
   "outputs": [],
   "source": [
    "os.makedirs('model', exist_ok=True)"
   ]
  },
  {
   "cell_type": "code",
   "execution_count": 23,
   "metadata": {},
   "outputs": [
    {
     "data": {
      "text/html": [
       "<div>\n",
       "<style scoped>\n",
       "    .dataframe tbody tr th:only-of-type {\n",
       "        vertical-align: middle;\n",
       "    }\n",
       "\n",
       "    .dataframe tbody tr th {\n",
       "        vertical-align: top;\n",
       "    }\n",
       "\n",
       "    .dataframe thead th {\n",
       "        text-align: right;\n",
       "    }\n",
       "</style>\n",
       "<table border=\"1\" class=\"dataframe\">\n",
       "  <thead>\n",
       "    <tr style=\"text-align: right;\">\n",
       "      <th></th>\n",
       "      <th>temperature_2m</th>\n",
       "      <th>precipitation</th>\n",
       "      <th>wind_speed_100m</th>\n",
       "      <th>imported_energy</th>\n",
       "      <th>total_load</th>\n",
       "      <th>total_generation_se</th>\n",
       "    </tr>\n",
       "  </thead>\n",
       "  <tbody>\n",
       "    <tr>\n",
       "      <th>0</th>\n",
       "      <td>8.565000</td>\n",
       "      <td>0.0</td>\n",
       "      <td>17.283749</td>\n",
       "      <td>-2125.0</td>\n",
       "      <td>20363.00</td>\n",
       "      <td>3313.0</td>\n",
       "    </tr>\n",
       "    <tr>\n",
       "      <th>1</th>\n",
       "      <td>8.264999</td>\n",
       "      <td>0.0</td>\n",
       "      <td>16.516901</td>\n",
       "      <td>-1354.0</td>\n",
       "      <td>25407.00</td>\n",
       "      <td>3946.0</td>\n",
       "    </tr>\n",
       "    <tr>\n",
       "      <th>2</th>\n",
       "      <td>9.365000</td>\n",
       "      <td>0.0</td>\n",
       "      <td>22.682856</td>\n",
       "      <td>-1995.0</td>\n",
       "      <td>26023.00</td>\n",
       "      <td>3295.0</td>\n",
       "    </tr>\n",
       "    <tr>\n",
       "      <th>5</th>\n",
       "      <td>8.115000</td>\n",
       "      <td>0.0</td>\n",
       "      <td>29.142216</td>\n",
       "      <td>-2688.0</td>\n",
       "      <td>25923.00</td>\n",
       "      <td>2546.0</td>\n",
       "    </tr>\n",
       "    <tr>\n",
       "      <th>8</th>\n",
       "      <td>7.365000</td>\n",
       "      <td>1.5</td>\n",
       "      <td>29.379175</td>\n",
       "      <td>-2005.0</td>\n",
       "      <td>24069.00</td>\n",
       "      <td>2731.0</td>\n",
       "    </tr>\n",
       "    <tr>\n",
       "      <th>...</th>\n",
       "      <td>...</td>\n",
       "      <td>...</td>\n",
       "      <td>...</td>\n",
       "      <td>...</td>\n",
       "      <td>...</td>\n",
       "      <td>...</td>\n",
       "    </tr>\n",
       "    <tr>\n",
       "      <th>18503</th>\n",
       "      <td>7.015000</td>\n",
       "      <td>0.0</td>\n",
       "      <td>42.567242</td>\n",
       "      <td>-1892.0</td>\n",
       "      <td>27286.25</td>\n",
       "      <td>4326.0</td>\n",
       "    </tr>\n",
       "    <tr>\n",
       "      <th>18504</th>\n",
       "      <td>6.265000</td>\n",
       "      <td>0.0</td>\n",
       "      <td>36.201935</td>\n",
       "      <td>-2030.0</td>\n",
       "      <td>28903.00</td>\n",
       "      <td>4912.0</td>\n",
       "    </tr>\n",
       "    <tr>\n",
       "      <th>18505</th>\n",
       "      <td>5.165000</td>\n",
       "      <td>0.0</td>\n",
       "      <td>28.715500</td>\n",
       "      <td>-2726.0</td>\n",
       "      <td>24612.25</td>\n",
       "      <td>5044.0</td>\n",
       "    </tr>\n",
       "    <tr>\n",
       "      <th>18506</th>\n",
       "      <td>-1.685000</td>\n",
       "      <td>0.9</td>\n",
       "      <td>27.238943</td>\n",
       "      <td>-3487.0</td>\n",
       "      <td>29724.50</td>\n",
       "      <td>5237.0</td>\n",
       "    </tr>\n",
       "    <tr>\n",
       "      <th>18507</th>\n",
       "      <td>-4.882500</td>\n",
       "      <td>0.0</td>\n",
       "      <td>17.771753</td>\n",
       "      <td>-1983.0</td>\n",
       "      <td>32226.25</td>\n",
       "      <td>4557.0</td>\n",
       "    </tr>\n",
       "  </tbody>\n",
       "</table>\n",
       "<p>14806 rows × 6 columns</p>\n",
       "</div>"
      ],
      "text/plain": [
       "       temperature_2m  precipitation  wind_speed_100m  imported_energy  \\\n",
       "0            8.565000            0.0        17.283749          -2125.0   \n",
       "1            8.264999            0.0        16.516901          -1354.0   \n",
       "2            9.365000            0.0        22.682856          -1995.0   \n",
       "5            8.115000            0.0        29.142216          -2688.0   \n",
       "8            7.365000            1.5        29.379175          -2005.0   \n",
       "...               ...            ...              ...              ...   \n",
       "18503        7.015000            0.0        42.567242          -1892.0   \n",
       "18504        6.265000            0.0        36.201935          -2030.0   \n",
       "18505        5.165000            0.0        28.715500          -2726.0   \n",
       "18506       -1.685000            0.9        27.238943          -3487.0   \n",
       "18507       -4.882500            0.0        17.771753          -1983.0   \n",
       "\n",
       "       total_load  total_generation_se  \n",
       "0        20363.00               3313.0  \n",
       "1        25407.00               3946.0  \n",
       "2        26023.00               3295.0  \n",
       "5        25923.00               2546.0  \n",
       "8        24069.00               2731.0  \n",
       "...           ...                  ...  \n",
       "18503    27286.25               4326.0  \n",
       "18504    28903.00               4912.0  \n",
       "18505    24612.25               5044.0  \n",
       "18506    29724.50               5237.0  \n",
       "18507    32226.25               4557.0  \n",
       "\n",
       "[14806 rows x 6 columns]"
      ]
     },
     "execution_count": 23,
     "metadata": {},
     "output_type": "execute_result"
    }
   ],
   "source": [
    "train_features = train_features.dropna()\n",
    "train_features"
   ]
  },
  {
   "cell_type": "code",
   "execution_count": null,
   "metadata": {},
   "outputs": [],
   "source": [
    "# from sklearn.preprocessing import MinMaxScaler\n",
    "# scaler = MinMaxScaler()\n",
    "\n",
    "# train_features_scaled = scaler.fit_transform(train_features)\n",
    "# test_features_scaled = scaler.transform(test_features)\n",
    "\n",
    "# train_features_scaled = pd.DataFrame(train_features_scaled, columns=train_features.columns)\n",
    "# test_features_scaled = pd.DataFrame(test_features_scaled, columns=test_features.columns)\n"
   ]
  },
  {
   "cell_type": "code",
   "execution_count": null,
   "metadata": {},
   "outputs": [],
   "source": []
  },
  {
   "cell_type": "code",
   "execution_count": 24,
   "metadata": {},
   "outputs": [
    {
     "name": "stdout",
     "output_type": "stream",
     "text": [
      "MSE: 1998.5633484702507\n",
      "R squared: 0.5959573414688095\n"
     ]
    }
   ],
   "source": [
    "\n",
    "xgb_regressor = xgb.XGBRegressor(\n",
    "        objective='reg:squarederror',\n",
    "        n_estimators=200,  \n",
    "        learning_rate=0.1,\n",
    "        max_depth=7,\n",
    "        subsample=0.8,\n",
    "        colsample_bytree=1.0\n",
    "    )\n",
    "#xgb_regressor = xgb.XGBRegressor(objective='reg:squarederror', n_estimators=100, learning_rate=0.1, max_depth=5)\n",
    "xgb_regressor.fit(train_features, y_train)\n",
    "\n",
    "y_pred = xgb_regressor.predict(test_features)\n",
    "\n",
    "mse = mean_squared_error(y_test.iloc[:,0], y_pred)\n",
    "print(\"MSE:\", mse)\n",
    "r2 = r2_score(y_test.iloc[:,0], y_pred)\n",
    "print(\"R squared:\", r2)\n"
   ]
  },
  {
   "cell_type": "code",
   "execution_count": 26,
   "metadata": {},
   "outputs": [
    {
     "data": {
      "image/png": "[encoded data removed]",
      "text/plain": [
       "<Figure size 2000x2000 with 2 Axes>"
      ]
     },
     "metadata": {},
     "output_type": "display_data"
    }
   ],
   "source": [
    "#correlation matrix\n",
    "import seaborn as sns\n",
    "import matplotlib.pyplot as plt\n",
    "plt.figure(figsize=(20,20))\n",
    "cor = train_features.corr()\n",
    "sns.heatmap(cor, annot=True, cmap=plt.cm.Reds)\n",
    "plt.show()\n"
   ]
  },
  {
   "cell_type": "code",
   "execution_count": 27,
   "metadata": {},
   "outputs": [],
   "source": [
    "df = y_test\n",
    "df['predicted_price'] = y_pred"
   ]
  },
  {
   "cell_type": "code",
   "execution_count": 28,
   "metadata": {},
   "outputs": [
    {
     "data": {
      "text/html": [
       "<div>\n",
       "<style scoped>\n",
       "    .dataframe tbody tr th:only-of-type {\n",
       "        vertical-align: middle;\n",
       "    }\n",
       "\n",
       "    .dataframe tbody tr th {\n",
       "        vertical-align: top;\n",
       "    }\n",
       "\n",
       "    .dataframe thead th {\n",
       "        text-align: right;\n",
       "    }\n",
       "</style>\n",
       "<table border=\"1\" class=\"dataframe\">\n",
       "  <thead>\n",
       "    <tr style=\"text-align: right;\">\n",
       "      <th></th>\n",
       "      <th>prices</th>\n",
       "      <th>predicted_price</th>\n",
       "      <th>date</th>\n",
       "    </tr>\n",
       "  </thead>\n",
       "  <tbody>\n",
       "    <tr>\n",
       "      <th>8153</th>\n",
       "      <td>38.76</td>\n",
       "      <td>41.505596</td>\n",
       "      <td>2022-11-01 04:00:00+00:00</td>\n",
       "    </tr>\n",
       "    <tr>\n",
       "      <th>8154</th>\n",
       "      <td>59.95</td>\n",
       "      <td>48.564217</td>\n",
       "      <td>2022-11-01 06:00:00+00:00</td>\n",
       "    </tr>\n",
       "    <tr>\n",
       "      <th>5768</th>\n",
       "      <td>68.89</td>\n",
       "      <td>53.410374</td>\n",
       "      <td>2022-11-01 14:00:00+00:00</td>\n",
       "    </tr>\n",
       "    <tr>\n",
       "      <th>11679</th>\n",
       "      <td>15.28</td>\n",
       "      <td>28.780876</td>\n",
       "      <td>2022-11-02 03:00:00+00:00</td>\n",
       "    </tr>\n",
       "    <tr>\n",
       "      <th>8156</th>\n",
       "      <td>97.12</td>\n",
       "      <td>63.894238</td>\n",
       "      <td>2022-11-02 08:00:00+00:00</td>\n",
       "    </tr>\n",
       "  </tbody>\n",
       "</table>\n",
       "</div>"
      ],
      "text/plain": [
       "       prices  predicted_price                       date\n",
       "8153    38.76        41.505596  2022-11-01 04:00:00+00:00\n",
       "8154    59.95        48.564217  2022-11-01 06:00:00+00:00\n",
       "5768    68.89        53.410374  2022-11-01 14:00:00+00:00\n",
       "11679   15.28        28.780876  2022-11-02 03:00:00+00:00\n",
       "8156    97.12        63.894238  2022-11-02 08:00:00+00:00"
      ]
     },
     "execution_count": 28,
     "metadata": {},
     "output_type": "execute_result"
    }
   ],
   "source": [
    "df['date'] = X_test['date']\n",
    "df = df.sort_values(by=['date'])\n",
    "df.head(5)"
   ]
  },
  {
   "cell_type": "code",
   "execution_count": 29,
   "metadata": {},
   "outputs": [],
   "source": [
    "model_dir = \"SE3_model\"\n",
    "if not os.path.exists(model_dir):\n",
    "    os.mkdir(model_dir)\n",
    "images_dir = model_dir + \"/images\"\n",
    "if not os.path.exists(images_dir):\n",
    "    os.mkdir(images_dir)"
   ]
  },
  {
   "cell_type": "code",
   "execution_count": 30,
   "metadata": {},
   "outputs": [],
   "source": [
    "from hsml.schema import Schema\n",
    "from hsml.model_schema import ModelSchema\n",
    "\n",
    "# Creating input and output schemas using the 'Schema' class for features (X) and target variable (y)\n",
    "input_schema = Schema(X_train)\n",
    "output_schema = Schema(y_train)\n",
    "\n",
    "# Creating a model schema using 'ModelSchema' with the input and output schemas\n",
    "model_schema = ModelSchema(input_schema=input_schema, output_schema=output_schema)\n",
    "\n",
    "# Converting the model schema to a dictionary representation\n",
    "schema_dict = model_schema.to_dict()"
   ]
  },
  {
   "cell_type": "code",
   "execution_count": 31,
   "metadata": {},
   "outputs": [],
   "source": [
    "xgb_regressor.save_model(model_dir + \"/model_se3.json\")"
   ]
  },
  {
   "cell_type": "code",
   "execution_count": 32,
   "metadata": {},
   "outputs": [],
   "source": [
    "res_dict = { \n",
    "        \"MSE\": str(mse),\n",
    "        \"R squared\": str(r2),\n",
    "    }"
   ]
  },
  {
   "cell_type": "code",
   "execution_count": 33,
   "metadata": {},
   "outputs": [
    {
     "data": {
      "application/vnd.jupyter.widget-view+json": {
       "model_id": "058d745049f5449e80eb37127f20bea7",
       "version_major": 2,
       "version_minor": 0
      },
      "text/plain": [
       "  0%|          | 0/6 [00:00<?, ?it/s]"
      ]
     },
     "metadata": {},
     "output_type": "display_data"
    },
    {
     "data": {
      "application/vnd.jupyter.widget-view+json": {
       "model_id": "7cc5a044dc1f412c9d20e89ae78aaca4",
       "version_major": 2,
       "version_minor": 0
      },
      "text/plain": [
       "Uploading: 0.000%|          | 0/2188081 elapsed<00:00 remaining<?"
      ]
     },
     "metadata": {},
     "output_type": "display_data"
    },
    {
     "data": {
      "application/vnd.jupyter.widget-view+json": {
       "model_id": "dd77244a4ddf428c9b40f0bc5f44ab2e",
       "version_major": 2,
       "version_minor": 0
      },
      "text/plain": [
       "Uploading: 0.000%|          | 0/219 elapsed<00:00 remaining<?"
      ]
     },
     "metadata": {},
     "output_type": "display_data"
    },
    {
     "data": {
      "application/vnd.jupyter.widget-view+json": {
       "model_id": "03c702373eb64db6b8033a674417cbfa",
       "version_major": 2,
       "version_minor": 0
      },
      "text/plain": [
       "Uploading: 0.000%|          | 0/1240 elapsed<00:00 remaining<?"
      ]
     },
     "metadata": {},
     "output_type": "display_data"
    },
    {
     "name": "stdout",
     "output_type": "stream",
     "text": [
      "Model created, explore it at https://c.app.hopsworks.ai:443/p/1164446/models/electricity_xgboost_model_se3/1\n"
     ]
    },
    {
     "data": {
      "text/plain": [
       "Model(name: 'electricity_xgboost_model_se3', version: 1)"
      ]
     },
     "execution_count": 33,
     "metadata": {},
     "output_type": "execute_result"
    }
   ],
   "source": [
    "mr = project.get_model_registry()\n",
    "\n",
    "# Creating a Python model in the model registry named 'air_quality_xgboost_model'\n",
    "\n",
    "se4_model = mr.python.create_model(\n",
    "    name=\"electricity_xgboost_model_se3\", \n",
    "    metrics= res_dict,\n",
    "    model_schema=model_schema,\n",
    "    input_example=X_test.sample().values, \n",
    "    description=\"Electricity prices predictor for SE3\",\n",
    ")\n",
    "\n",
    "# Saving the model artifacts to the 'air_quality_model' directory in the model registry\n",
    "se4_model.save(model_dir)"
   ]
  }
 ],
 "metadata": {
  "kernelspec": {
   "display_name": "SML",
   "language": "python",
   "name": "python3"
  },
  "language_info": {
   "codemirror_mode": {
    "name": "ipython",
    "version": 3
   },
   "file_extension": ".py",
   "mimetype": "text/x-python",
   "name": "python",
   "nbconvert_exporter": "python",
   "pygments_lexer": "ipython3",
   "version": "3.11.10"
  }
 },
 "nbformat": 4,
 "nbformat_minor": 2
}
